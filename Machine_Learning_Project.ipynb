{
  "nbformat": 4,
  "nbformat_minor": 0,
  "metadata": {
    "colab": {
      "provenance": [],
      "machine_shape": "hm"
    },
    "kernelspec": {
      "name": "python3",
      "display_name": "Python 3"
    },
    "language_info": {
      "name": "python"
    },
    "gpuClass": "standard"
  },
  "cells": [
    {
      "cell_type": "markdown",
      "source": [
        "#I. Import the libraries and files"
      ],
      "metadata": {
        "id": "9UNJBtDJhvDu"
      }
    },
    {
      "cell_type": "code",
      "execution_count": null,
      "metadata": {
        "id": "3Y6Fo4AkhheY"
      },
      "outputs": [],
      "source": [
        "import numpy as np\n",
        "import pandas as pd\n",
        "\n",
        "#Imputing the missing values \n",
        "from sklearn.impute import SimpleImputer \n",
        "\n",
        "#Scaling our features\n",
        "from sklearn.preprocessing import MinMaxScaler\n",
        "\n",
        "#PCA to check the data\n",
        "from sklearn.decomposition import PCA\n",
        "import matplotlib.pyplot as plt\n",
        "\n",
        "#Splitting the data and importing the metrics\n",
        "from sklearn.model_selection import train_test_split\n",
        "from sklearn.metrics import classification_report, accuracy_score, precision_recall_fscore_support\n",
        "from sklearn.metrics import confusion_matrix, plot_confusion_matrix, precision_score, recall_score, roc_auc_score, f1_score\n",
        "from sklearn.metrics import accuracy_score\n",
        "\n",
        "#Models \n",
        "from lightgbm import LGBMClassifier \n",
        "\n"
      ]
    },
    {
      "cell_type": "code",
      "source": [
        "from google.colab import drive\n",
        "drive.mount('/content/drive')"
      ],
      "metadata": {
        "colab": {
          "base_uri": "https://localhost:8080/"
        },
        "id": "bQ_mhxl3tNf-",
        "outputId": "4f88a723-f0b1-4ce0-fbae-73e9d32d435c"
      },
      "execution_count": null,
      "outputs": [
        {
          "output_type": "stream",
          "name": "stdout",
          "text": [
            "Mounted at /content/drive\n"
          ]
        }
      ]
    },
    {
      "cell_type": "code",
      "source": [
        "df_train = pd.read_csv('/content/drive/MyDrive/train.csv')\n",
        "df_test = pd.read_csv('/content/drive/MyDrive/test.csv')\n",
        "# df_train = pd.read_csv('train.csv')\n",
        "# df_test = pd.read_csv('test.csv')"
      ],
      "metadata": {
        "id": "ltgwxzo9htaL"
      },
      "execution_count": null,
      "outputs": []
    },
    {
      "cell_type": "markdown",
      "source": [
        "#II. Quick exploration of the features"
      ],
      "metadata": {
        "id": "xK_tj4a_iRli"
      }
    },
    {
      "cell_type": "code",
      "source": [
        "#Check the number of non-null lines\n",
        "#Check if the data types are correct\n",
        "# Check what are the numerical & categorical variables\n",
        "df_train.info()"
      ],
      "metadata": {
        "colab": {
          "base_uri": "https://localhost:8080/"
        },
        "id": "QMoG3AeniNCS",
        "outputId": "39b8f01c-5c4a-492e-872c-36a3a4697a68"
      },
      "execution_count": null,
      "outputs": [
        {
          "output_type": "stream",
          "name": "stdout",
          "text": [
            "<class 'pandas.core.frame.DataFrame'>\n",
            "RangeIndex: 170000 entries, 0 to 169999\n",
            "Data columns (total 19 columns):\n",
            " #   Column                          Non-Null Count   Dtype  \n",
            "---  ------                          --------------   -----  \n",
            " 0   Id                              170000 non-null  object \n",
            " 1   Band Name                       169141 non-null  object \n",
            " 2   Band Genre                      169116 non-null  object \n",
            " 3   Band Country of Origin          169210 non-null  object \n",
            " 4   Band Debut                      169143 non-null  float64\n",
            " 5   Concert ID                      169130 non-null  float64\n",
            " 6   Concert Attendance              169105 non-null  float64\n",
            " 7   Inside Venue                    169162 non-null  object \n",
            " 8   Rain                            169139 non-null  object \n",
            " 9   Seated                          169168 non-null  object \n",
            " 10  Personnality Trait 1            169148 non-null  float64\n",
            " 11  Personnality Trait 2            169151 non-null  float64\n",
            " 12  Personnality Trait 3            169107 non-null  float64\n",
            " 13  Personnality Trait 4            169135 non-null  float64\n",
            " 14  Concert Goer Age                169147 non-null  float64\n",
            " 15  Concert Goer ID                 169185 non-null  object \n",
            " 16  Height (cm)                     169153 non-null  float64\n",
            " 17  Concert Goer Country of Origin  169141 non-null  object \n",
            " 18  Concert Enjoyment               170000 non-null  object \n",
            "dtypes: float64(9), object(10)\n",
            "memory usage: 24.6+ MB\n"
          ]
        }
      ]
    },
    {
      "cell_type": "code",
      "source": [
        "#We do the same on the test set\n",
        "df_test.info()"
      ],
      "metadata": {
        "colab": {
          "base_uri": "https://localhost:8080/"
        },
        "id": "mdJKsGLRiayT",
        "outputId": "febb9768-edb5-4f17-cd72-4ca6dd002ffe"
      },
      "execution_count": null,
      "outputs": [
        {
          "output_type": "stream",
          "name": "stdout",
          "text": [
            "<class 'pandas.core.frame.DataFrame'>\n",
            "RangeIndex: 30000 entries, 0 to 29999\n",
            "Data columns (total 18 columns):\n",
            " #   Column                          Non-Null Count  Dtype  \n",
            "---  ------                          --------------  -----  \n",
            " 0   Id                              30000 non-null  object \n",
            " 1   Band Name                       29864 non-null  object \n",
            " 2   Band Genre                      29862 non-null  object \n",
            " 3   Band Country of Origin          29843 non-null  object \n",
            " 4   Band Debut                      29843 non-null  float64\n",
            " 5   Concert ID                      29842 non-null  float64\n",
            " 6   Concert Attendance              29848 non-null  float64\n",
            " 7   Inside Venue                    29834 non-null  object \n",
            " 8   Rain                            29857 non-null  object \n",
            " 9   Seated                          29858 non-null  object \n",
            " 10  Personnality Trait 1            29865 non-null  float64\n",
            " 11  Personnality Trait 2            29847 non-null  float64\n",
            " 12  Personnality Trait 3            29851 non-null  float64\n",
            " 13  Personnality Trait 4            29862 non-null  float64\n",
            " 14  Concert Goer Age                29874 non-null  float64\n",
            " 15  Concert Goer ID                 29855 non-null  object \n",
            " 16  Height (cm)                     29860 non-null  float64\n",
            " 17  Concert Goer Country of Origin  29839 non-null  object \n",
            "dtypes: float64(9), object(9)\n",
            "memory usage: 4.1+ MB\n"
          ]
        }
      ]
    },
    {
      "cell_type": "code",
      "source": [
        "# Let's check now if there are some missing values\n",
        "df_train.isna().sum()\n",
        "# We see that there is a lot of missing values which means we have either have to replace them \n",
        "# or use a model that can handle missing values or delete the lines"
      ],
      "metadata": {
        "colab": {
          "base_uri": "https://localhost:8080/"
        },
        "id": "FaojH4l6ieRD",
        "outputId": "5878fb13-88ca-4aaf-f928-3a2c037577c9"
      },
      "execution_count": null,
      "outputs": [
        {
          "output_type": "execute_result",
          "data": {
            "text/plain": [
              "Id                                  0\n",
              "Band Name                         859\n",
              "Band Genre                        884\n",
              "Band Country of Origin            790\n",
              "Band Debut                        857\n",
              "Concert ID                        870\n",
              "Concert Attendance                895\n",
              "Inside Venue                      838\n",
              "Rain                              861\n",
              "Seated                            832\n",
              "Personnality Trait 1              852\n",
              "Personnality Trait 2              849\n",
              "Personnality Trait 3              893\n",
              "Personnality Trait 4              865\n",
              "Concert Goer Age                  853\n",
              "Concert Goer ID                   815\n",
              "Height (cm)                       847\n",
              "Concert Goer Country of Origin    859\n",
              "Concert Enjoyment                   0\n",
              "dtype: int64"
            ]
          },
          "metadata": {},
          "execution_count": 6
        }
      ]
    },
    {
      "cell_type": "markdown",
      "source": [
        "#III. Cleaning the datasets"
      ],
      "metadata": {
        "id": "NSRzfm_4i53Z"
      }
    },
    {
      "cell_type": "markdown",
      "source": [
        "\n",
        "> ## 1. Looking for outliers\n",
        "\n",
        "\n"
      ],
      "metadata": {
        "id": "pGyyoAUWjzBX"
      }
    },
    {
      "cell_type": "code",
      "source": [
        "df_train[\"Personnality Trait 2\"].describe()"
      ],
      "metadata": {
        "colab": {
          "base_uri": "https://localhost:8080/"
        },
        "id": "DepItrfPq1JF",
        "outputId": "fddde8e5-2fbd-4240-f675-88b9df31347e"
      },
      "execution_count": null,
      "outputs": [
        {
          "output_type": "execute_result",
          "data": {
            "text/plain": [
              "count    169151.000000\n",
              "mean         -7.776188\n",
              "std        3237.713866\n",
              "min     -293861.500146\n",
              "25%          -0.689943\n",
              "50%          -0.021836\n",
              "75%           0.648032\n",
              "max      325834.016795\n",
              "Name: Personnality Trait 2, dtype: float64"
            ]
          },
          "metadata": {},
          "execution_count": 7
        }
      ]
    },
    {
      "cell_type": "code",
      "source": [
        "df_test[\"Concert Attendance\"].unique()"
      ],
      "metadata": {
        "colab": {
          "base_uri": "https://localhost:8080/"
        },
        "id": "qC7dfWojf7k0",
        "outputId": "e85e331d-fbf2-4e6b-fb36-71b8a417753f"
      },
      "execution_count": null,
      "outputs": [
        {
          "output_type": "execute_result",
          "data": {
            "text/plain": [
              "array([2.98000e+03, 8.10300e+03, 2.20260e+04, 1.09600e+03, 5.40000e+01,\n",
              "       5.98740e+04, 1.48000e+02, 1.62754e+05, 4.03000e+02,         nan,\n",
              "       5.98740e+08, 5.40000e+05, 2.98000e+07, 8.10300e+07, 1.62754e+09,\n",
              "       2.20260e+08, 1.48000e+06, 4.03000e+06, 1.09600e+07])"
            ]
          },
          "metadata": {},
          "execution_count": 8
        }
      ]
    },
    {
      "cell_type": "code",
      "source": [
        "# Outliers are removed, I do it before replacing missing values so that the mean used to do it is not biased by extreme values.\n",
        "\n",
        "# We do it for the test set\n",
        "\n",
        "out_limit_H = df_train[\"Personnality Trait 2\"].quantile(0.9995)\n",
        "out_limit_L = df_train[\"Personnality Trait 2\"].quantile(0.0006)\n",
        "\n",
        "df_train_base = df_train[(df_train[\"Personnality Trait 2\"] < out_limit_H) & (df_train[\"Personnality Trait 2\"] > out_limit_L)]\n",
        "\n",
        "\n",
        "mean_P2 = df_train_base[\"Personnality Trait 2\"].mean()\n",
        "df_train[\"Personnality Trait 2\"].loc[(df_train[\"Personnality Trait 2\"] > out_limit_H) | (df_train[\"Personnality Trait 2\"] < out_limit_L)] = mean_P2\n",
        "\n",
        "# Same for the attendance:\n",
        "out_limit_H = 1e9\n",
        "\n",
        "df_train_base = df_train[(df_train[\"Concert Attendance\"] < out_limit_H)]\n",
        "\n",
        "mean_P2 = df_train_base[\"Concert Attendance\"].mean()\n",
        "df_train[\"Concert Attendance\"].loc[(df_train[\"Concert Attendance\"] > out_limit_H)] = mean_P2\n"
      ],
      "metadata": {
        "colab": {
          "base_uri": "https://localhost:8080/"
        },
        "id": "hhSUTuCygHsZ",
        "outputId": "b50ee1d0-ffe9-4dde-df3a-89263af2139f"
      },
      "execution_count": null,
      "outputs": [
        {
          "output_type": "stream",
          "name": "stderr",
          "text": [
            "/usr/local/lib/python3.8/dist-packages/pandas/core/indexing.py:1732: SettingWithCopyWarning: \n",
            "A value is trying to be set on a copy of a slice from a DataFrame\n",
            "\n",
            "See the caveats in the documentation: https://pandas.pydata.org/pandas-docs/stable/user_guide/indexing.html#returning-a-view-versus-a-copy\n",
            "  self._setitem_single_block(indexer, value, name)\n"
          ]
        }
      ]
    },
    {
      "cell_type": "code",
      "source": [
        "# Outliers are removed, I do it before replacing missing values so that the mean used to do it is not biased by extreme values.\n",
        "\n",
        "# We do it for the test set\n",
        "\n",
        "out_limit_H = df_test[\"Personnality Trait 2\"].quantile(0.9993)\n",
        "out_limit_L = df_test[\"Personnality Trait 2\"].quantile(0.0006)\n",
        "\n",
        "df_test_base = df_test[(df_test[\"Personnality Trait 2\"] <= out_limit_H) & (df_test[\"Personnality Trait 2\"] >= out_limit_L)]\n",
        "\n",
        "\n",
        "mean_P2 = df_test_base[\"Personnality Trait 2\"].mean()\n",
        "df_test[\"Personnality Trait 2\"].loc[(df_test[\"Personnality Trait 2\"] > out_limit_H) | (df_test[\"Personnality Trait 2\"] < out_limit_L)] = mean_P2\n",
        "\n",
        "# Same for the attendance:\n",
        "out_limit_H = 1e9\n",
        "\n",
        "df_test_base = df_test[(df_test[\"Concert Attendance\"] < out_limit_H)]\n",
        "\n",
        "mean_P2 = df_test_base[\"Concert Attendance\"].mean()\n",
        "df_test[\"Concert Attendance\"].loc[(df_test[\"Concert Attendance\"] > out_limit_H)] = mean_P2\n"
      ],
      "metadata": {
        "id": "xvBinSNrgMHI"
      },
      "execution_count": null,
      "outputs": []
    },
    {
      "cell_type": "code",
      "source": [
        "df_train[\"Personnality Trait 2\"].describe()"
      ],
      "metadata": {
        "colab": {
          "base_uri": "https://localhost:8080/"
        },
        "id": "QUsTd5lpQHqS",
        "outputId": "8f8eb0d7-fb9f-4136-e961-0318ccc03fe7"
      },
      "execution_count": null,
      "outputs": [
        {
          "output_type": "execute_result",
          "data": {
            "text/plain": [
              "count    169151.000000\n",
              "mean         -0.021746\n",
              "std           0.987329\n",
              "min          -4.412362\n",
              "25%          -0.689397\n",
              "50%          -0.021970\n",
              "75%           0.646901\n",
              "max           3.859655\n",
              "Name: Personnality Trait 2, dtype: float64"
            ]
          },
          "metadata": {},
          "execution_count": 11
        }
      ]
    },
    {
      "cell_type": "markdown",
      "source": [
        "> ## 2. Replace the missing values \"Insert...\"\n",
        "\n",
        "\n"
      ],
      "metadata": {
        "id": "_sli-sFOxS1P"
      }
    },
    {
      "cell_type": "markdown",
      "source": [
        "Sometimes in the dataset we have \"Insert Band Genre\", \"Insert Band Name\", \"Insert Band Country of Origin\" because the data where missing. So we will impute that as well by replacing them by np.nan values, so that we can generalize our main values replacing strategy, presented in the following part."
      ],
      "metadata": {
        "id": "bd6Uz_c8m5LT"
      }
    },
    {
      "cell_type": "code",
      "source": [
        "broken_columns = [\"Band Name\",\"Band Genre\",\"Band Country of Origin\" ]\n",
        "\"Insert Band Genre\" in df_train['Band Genre'].unique()"
      ],
      "metadata": {
        "id": "tm_Txnrvvr3W",
        "colab": {
          "base_uri": "https://localhost:8080/"
        },
        "outputId": "8aef1689-f60e-485b-c1e6-c11c6ecda869"
      },
      "execution_count": null,
      "outputs": [
        {
          "output_type": "execute_result",
          "data": {
            "text/plain": [
              "True"
            ]
          },
          "metadata": {},
          "execution_count": 12
        }
      ]
    },
    {
      "cell_type": "code",
      "source": [
        "df_train['Band Name'].where(df_train['Band Name'] != \"Insert Band Name\", np.nan, inplace=True)\n",
        "df_train['Band Genre'].where(df_train['Band Genre'] != \"Insert Band Genre\", np.nan, inplace=True)\n",
        "df_train['Band Country of Origin'].where(df_train['Band Country of Origin'] != \"Insert Band Country of Origin\", np.nan, inplace=True)\n",
        "\n",
        "df_test['Band Name'].where(df_test['Band Name'] != \"Insert Band Name\", np.nan, inplace=True)\n",
        "df_test['Band Genre'].where(df_test['Band Genre'] != \"Insert Band Genre\", np.nan, inplace=True)\n",
        "df_test['Band Country of Origin'].where(df_test['Band Country of Origin'] != \"Insert Band Country of Origin\", np.nan, inplace=True)"
      ],
      "metadata": {
        "id": "M0QQZQMVv37K"
      },
      "execution_count": null,
      "outputs": []
    },
    {
      "cell_type": "code",
      "source": [
        "\"Insert Band Genre\" in df_test['Band Genre'].unique()"
      ],
      "metadata": {
        "id": "3dnmukrEv9-5",
        "colab": {
          "base_uri": "https://localhost:8080/"
        },
        "outputId": "e51557c1-dee3-4b36-f882-7e205e9342bc"
      },
      "execution_count": null,
      "outputs": [
        {
          "output_type": "execute_result",
          "data": {
            "text/plain": [
              "False"
            ]
          },
          "metadata": {},
          "execution_count": 14
        }
      ]
    },
    {
      "cell_type": "markdown",
      "source": [
        "> ## 3. Replacing the majority of the missing values\n",
        "\n",
        "\n"
      ],
      "metadata": {
        "id": "be5LfhgSjvdW"
      }
    },
    {
      "cell_type": "markdown",
      "source": [
        "After analyzing our dataset, we were able to retrive some of the missing values. Exemple, if the Band Debut is \"1971\" and we are missing the \"Band Name and the \"Band Genre\", we know by looking at our data (most frequent category in this sub category) that is it \"Joystick Army\" and \"Pop Music\". Therefore, we were able to impute the missing values for the following features : Band Name, Band Genre, Band Country of Origin, Band Debut, Rain, Concert Attendance, Concert Goer Age, Height and all Personality Traits 1 to 4, for the training set as well as the training set.\n",
        "\n",
        "We do this for every np.nan value, this is the reason we replaced the \"Insert...\" type values by np.nan in the earlier section."
      ],
      "metadata": {
        "id": "dX-XRU3WkJ89"
      }
    },
    {
      "cell_type": "code",
      "source": [
        "def find_num_value(pivot ,targ_column : str, source_column : str,df_origin):\n",
        "    for value in df_origin[targ_column].loc[df_origin[source_column] == pivot]:\n",
        "        if not np.isnan(value) :\n",
        "            return value\n",
        "    return np.nan\n",
        "\n",
        "def find_String_value(pivot ,targ_column : str, source_column : str,df_origin):\n",
        "    for value in df_origin[targ_column].loc[df_origin[source_column] == pivot]:\n",
        "        if type(value)==str:\n",
        "            return value\n",
        "    return np.nan\n",
        "\n",
        "def apply_num(df,df_origin, targ_column : str, source_column : str):\n",
        "    df[targ_column].loc[df[targ_column].isna()] = df[source_column].loc[df[targ_column].isna()].apply(lambda x : find_num_value(pivot=x,targ_column=targ_column,source_column=source_column,df_origin=df_origin))\n",
        "    return df\n",
        "\n",
        "def apply_string(df,df_origin,targ_column : str, source_column : str):\n",
        "    df[targ_column].loc[df[targ_column].isna()] = df[source_column].loc[df[targ_column].isna()].apply(lambda x : find_String_value(pivot = x,targ_column=targ_column,source_column=source_column,df_origin=df_origin))\n",
        "    return df"
      ],
      "metadata": {
        "id": "OdN2RgQpjIqx"
      },
      "execution_count": null,
      "outputs": []
    },
    {
      "cell_type": "code",
      "source": [
        "#For the training set\n",
        "\n",
        "apply_string(df=df_train,df_origin=df_train,targ_column='Band Genre',source_column='Band Name')\n",
        "apply_string(df=df_train,df_origin=df_train,targ_column='Band Country of Origin',source_column='Band Name')\n",
        "apply_string(df=df_train,df_origin=df_train,targ_column='Concert Goer Country of Origin',source_column='Concert Goer ID')\n",
        "\n",
        "apply_num(df=df_train,df_origin=df_train,targ_column='Band Debut',source_column='Band Name')\n",
        "apply_num(df=df_train,df_origin=df_train,targ_column='Rain',source_column='Concert ID')\n",
        "apply_num(df=df_train,df_origin=df_train,targ_column='Concert Attendance',source_column='Concert ID')\n",
        "apply_num(df=df_train,df_origin=df_train,targ_column='Concert Goer Age',source_column='Concert Goer ID')\n",
        "apply_num(df=df_train,df_origin=df_train,targ_column='Height (cm)',source_column='Concert Goer ID')\n",
        "apply_num(df=df_train,df_origin=df_train,targ_column='Personnality Trait 1',source_column='Concert Goer ID')\n",
        "apply_num(df=df_train,df_origin=df_train,targ_column='Personnality Trait 2',source_column='Concert Goer ID')\n",
        "apply_num(df=df_train,df_origin=df_train,targ_column='Personnality Trait 3',source_column='Concert Goer ID')\n",
        "apply_num(df=df_train,df_origin=df_train,targ_column='Personnality Trait 4',source_column='Concert Goer ID')"
      ],
      "metadata": {
        "id": "deb7QtFkj1wb",
        "colab": {
          "base_uri": "https://localhost:8080/",
          "height": 1000
        },
        "outputId": "bc167a01-cc43-4c01-88e7-53ad1ce63231"
      },
      "execution_count": null,
      "outputs": [
        {
          "output_type": "execute_result",
          "data": {
            "text/plain": [
              "                              Id                      Band Name  \\\n",
              "0       ConcertExperience_180106    Teenage Crazy Blue Knickers   \n",
              "1       ConcertExperience_146268                   Beyond Devon   \n",
              "2       ConcertExperience_128743                     Ron Talent   \n",
              "3       ConcertExperience_140839                  Devon Revival   \n",
              "4        ConcertExperience_19149                   Beyond Devon   \n",
              "...                          ...                            ...   \n",
              "169995   ConcertExperience_14055            Crazy Joystick Cult   \n",
              "169996  ConcertExperience_192792            Crazy Joystick Cult   \n",
              "169997  ConcertExperience_152942                Why Frogs, Why?   \n",
              "169998  ConcertExperience_138957  Twilight of the Joystick Gods   \n",
              "169999  ConcertExperience_132336                Joystick Attack   \n",
              "\n",
              "            Band Genre          Band Country of Origin  Band Debut  \\\n",
              "0       Indie/Alt Rock  United States of America (USA)      1976.0   \n",
              "1            Pop Music  United States of America (USA)      1968.0   \n",
              "2          Rock n Roll                          Canada      1955.0   \n",
              "3                  RnB  United States of America (USA)      1992.0   \n",
              "4            Pop Music  United States of America (USA)      1968.0   \n",
              "...                ...                             ...         ...   \n",
              "169995             RnB                          Canada      1985.0   \n",
              "169996             RnB                          Canada      1985.0   \n",
              "169997     Heavy Metal                          Canada      2005.0   \n",
              "169998     Hip Hop/Rap  United States of America (USA)      1995.0   \n",
              "169999     Heavy Metal             United Kingdom (UK)      2008.0   \n",
              "\n",
              "        Concert ID  Concert Attendance Inside Venue   Rain Seated  \\\n",
              "0            900.0              2980.0        False  False    NaN   \n",
              "1            731.0                54.0         True  False   True   \n",
              "2              NaN            162754.0        False  False   True   \n",
              "3            704.0              8103.0        False   True  False   \n",
              "4             95.0                54.0        False  False  False   \n",
              "...            ...                 ...          ...    ...    ...   \n",
              "169995        70.0            162754.0         True  False  False   \n",
              "169996       963.0                54.0        False  False  False   \n",
              "169997       764.0                54.0        False  False  False   \n",
              "169998       694.0             22026.0        False   True   True   \n",
              "169999       661.0              2980.0         True  False  False   \n",
              "\n",
              "        Personnality Trait 1  Personnality Trait 2  Personnality Trait 3  \\\n",
              "0                   0.330843             -0.958408             -0.943548   \n",
              "1                  -2.069449              0.017777             -1.910675   \n",
              "2                  -0.484268              1.968772             -0.064167   \n",
              "3                  -0.858054              1.022827             -0.348389   \n",
              "4                  -0.793029             -1.166528             -0.043766   \n",
              "...                      ...                   ...                   ...   \n",
              "169995             -0.095021              0.175175              0.914245   \n",
              "169996             -0.733719             -0.285776             -0.323312   \n",
              "169997              0.744969             -0.965547              1.020598   \n",
              "169998              0.821976              0.351411              0.175762   \n",
              "169999             -1.017410              0.883248             -0.184107   \n",
              "\n",
              "        Personnality Trait 4  Concert Goer Age    Concert Goer ID  \\\n",
              "0                  -1.636806              29.0  concert_goer_1985   \n",
              "1                   0.610265              43.0  concert_goer_1874   \n",
              "2                  -1.260871              68.0   concert_goer_442   \n",
              "3                  -1.147251              17.0  concert_goer_1149   \n",
              "4                   0.969661              59.0   concert_goer_930   \n",
              "...                      ...               ...                ...   \n",
              "169995              0.357359              50.0   concert_goer_707   \n",
              "169996              0.641180              71.0  concert_goer_1373   \n",
              "169997              1.027389              27.0  concert_goer_1286   \n",
              "169998              1.455654              39.0  concert_goer_1845   \n",
              "169999              0.631731              46.0  concert_goer_1281   \n",
              "\n",
              "        Height (cm)  Concert Goer Country of Origin   Concert Enjoyment  \n",
              "0             140.0                        Paraguay       Did Not Enjoy  \n",
              "1             158.0             United Kingdom (UK)             Enjoyed  \n",
              "2             159.0  United States of America (USA)       Did Not Enjoy  \n",
              "3             150.0                          Canada  Worst Concert Ever  \n",
              "4             166.0             United Kingdom (UK)       Did Not Enjoy  \n",
              "...             ...                             ...                 ...  \n",
              "169995        180.0  United States of America (USA)       Did Not Enjoy  \n",
              "169996        143.0                        Bulgaria  Worst Concert Ever  \n",
              "169997        176.0                          Canada       Did Not Enjoy  \n",
              "169998        176.0                          Canada       Did Not Enjoy  \n",
              "169999        146.0                          Canada   Best Concert Ever  \n",
              "\n",
              "[170000 rows x 19 columns]"
            ],
            "text/html": [
              "\n",
              "  <div id=\"df-29b1c4f3-59fc-4976-b220-164eadd31478\">\n",
              "    <div class=\"colab-df-container\">\n",
              "      <div>\n",
              "<style scoped>\n",
              "    .dataframe tbody tr th:only-of-type {\n",
              "        vertical-align: middle;\n",
              "    }\n",
              "\n",
              "    .dataframe tbody tr th {\n",
              "        vertical-align: top;\n",
              "    }\n",
              "\n",
              "    .dataframe thead th {\n",
              "        text-align: right;\n",
              "    }\n",
              "</style>\n",
              "<table border=\"1\" class=\"dataframe\">\n",
              "  <thead>\n",
              "    <tr style=\"text-align: right;\">\n",
              "      <th></th>\n",
              "      <th>Id</th>\n",
              "      <th>Band Name</th>\n",
              "      <th>Band Genre</th>\n",
              "      <th>Band Country of Origin</th>\n",
              "      <th>Band Debut</th>\n",
              "      <th>Concert ID</th>\n",
              "      <th>Concert Attendance</th>\n",
              "      <th>Inside Venue</th>\n",
              "      <th>Rain</th>\n",
              "      <th>Seated</th>\n",
              "      <th>Personnality Trait 1</th>\n",
              "      <th>Personnality Trait 2</th>\n",
              "      <th>Personnality Trait 3</th>\n",
              "      <th>Personnality Trait 4</th>\n",
              "      <th>Concert Goer Age</th>\n",
              "      <th>Concert Goer ID</th>\n",
              "      <th>Height (cm)</th>\n",
              "      <th>Concert Goer Country of Origin</th>\n",
              "      <th>Concert Enjoyment</th>\n",
              "    </tr>\n",
              "  </thead>\n",
              "  <tbody>\n",
              "    <tr>\n",
              "      <th>0</th>\n",
              "      <td>ConcertExperience_180106</td>\n",
              "      <td>Teenage Crazy Blue Knickers</td>\n",
              "      <td>Indie/Alt Rock</td>\n",
              "      <td>United States of America (USA)</td>\n",
              "      <td>1976.0</td>\n",
              "      <td>900.0</td>\n",
              "      <td>2980.0</td>\n",
              "      <td>False</td>\n",
              "      <td>False</td>\n",
              "      <td>NaN</td>\n",
              "      <td>0.330843</td>\n",
              "      <td>-0.958408</td>\n",
              "      <td>-0.943548</td>\n",
              "      <td>-1.636806</td>\n",
              "      <td>29.0</td>\n",
              "      <td>concert_goer_1985</td>\n",
              "      <td>140.0</td>\n",
              "      <td>Paraguay</td>\n",
              "      <td>Did Not Enjoy</td>\n",
              "    </tr>\n",
              "    <tr>\n",
              "      <th>1</th>\n",
              "      <td>ConcertExperience_146268</td>\n",
              "      <td>Beyond Devon</td>\n",
              "      <td>Pop Music</td>\n",
              "      <td>United States of America (USA)</td>\n",
              "      <td>1968.0</td>\n",
              "      <td>731.0</td>\n",
              "      <td>54.0</td>\n",
              "      <td>True</td>\n",
              "      <td>False</td>\n",
              "      <td>True</td>\n",
              "      <td>-2.069449</td>\n",
              "      <td>0.017777</td>\n",
              "      <td>-1.910675</td>\n",
              "      <td>0.610265</td>\n",
              "      <td>43.0</td>\n",
              "      <td>concert_goer_1874</td>\n",
              "      <td>158.0</td>\n",
              "      <td>United Kingdom (UK)</td>\n",
              "      <td>Enjoyed</td>\n",
              "    </tr>\n",
              "    <tr>\n",
              "      <th>2</th>\n",
              "      <td>ConcertExperience_128743</td>\n",
              "      <td>Ron Talent</td>\n",
              "      <td>Rock n Roll</td>\n",
              "      <td>Canada</td>\n",
              "      <td>1955.0</td>\n",
              "      <td>NaN</td>\n",
              "      <td>162754.0</td>\n",
              "      <td>False</td>\n",
              "      <td>False</td>\n",
              "      <td>True</td>\n",
              "      <td>-0.484268</td>\n",
              "      <td>1.968772</td>\n",
              "      <td>-0.064167</td>\n",
              "      <td>-1.260871</td>\n",
              "      <td>68.0</td>\n",
              "      <td>concert_goer_442</td>\n",
              "      <td>159.0</td>\n",
              "      <td>United States of America (USA)</td>\n",
              "      <td>Did Not Enjoy</td>\n",
              "    </tr>\n",
              "    <tr>\n",
              "      <th>3</th>\n",
              "      <td>ConcertExperience_140839</td>\n",
              "      <td>Devon Revival</td>\n",
              "      <td>RnB</td>\n",
              "      <td>United States of America (USA)</td>\n",
              "      <td>1992.0</td>\n",
              "      <td>704.0</td>\n",
              "      <td>8103.0</td>\n",
              "      <td>False</td>\n",
              "      <td>True</td>\n",
              "      <td>False</td>\n",
              "      <td>-0.858054</td>\n",
              "      <td>1.022827</td>\n",
              "      <td>-0.348389</td>\n",
              "      <td>-1.147251</td>\n",
              "      <td>17.0</td>\n",
              "      <td>concert_goer_1149</td>\n",
              "      <td>150.0</td>\n",
              "      <td>Canada</td>\n",
              "      <td>Worst Concert Ever</td>\n",
              "    </tr>\n",
              "    <tr>\n",
              "      <th>4</th>\n",
              "      <td>ConcertExperience_19149</td>\n",
              "      <td>Beyond Devon</td>\n",
              "      <td>Pop Music</td>\n",
              "      <td>United States of America (USA)</td>\n",
              "      <td>1968.0</td>\n",
              "      <td>95.0</td>\n",
              "      <td>54.0</td>\n",
              "      <td>False</td>\n",
              "      <td>False</td>\n",
              "      <td>False</td>\n",
              "      <td>-0.793029</td>\n",
              "      <td>-1.166528</td>\n",
              "      <td>-0.043766</td>\n",
              "      <td>0.969661</td>\n",
              "      <td>59.0</td>\n",
              "      <td>concert_goer_930</td>\n",
              "      <td>166.0</td>\n",
              "      <td>United Kingdom (UK)</td>\n",
              "      <td>Did Not Enjoy</td>\n",
              "    </tr>\n",
              "    <tr>\n",
              "      <th>...</th>\n",
              "      <td>...</td>\n",
              "      <td>...</td>\n",
              "      <td>...</td>\n",
              "      <td>...</td>\n",
              "      <td>...</td>\n",
              "      <td>...</td>\n",
              "      <td>...</td>\n",
              "      <td>...</td>\n",
              "      <td>...</td>\n",
              "      <td>...</td>\n",
              "      <td>...</td>\n",
              "      <td>...</td>\n",
              "      <td>...</td>\n",
              "      <td>...</td>\n",
              "      <td>...</td>\n",
              "      <td>...</td>\n",
              "      <td>...</td>\n",
              "      <td>...</td>\n",
              "      <td>...</td>\n",
              "    </tr>\n",
              "    <tr>\n",
              "      <th>169995</th>\n",
              "      <td>ConcertExperience_14055</td>\n",
              "      <td>Crazy Joystick Cult</td>\n",
              "      <td>RnB</td>\n",
              "      <td>Canada</td>\n",
              "      <td>1985.0</td>\n",
              "      <td>70.0</td>\n",
              "      <td>162754.0</td>\n",
              "      <td>True</td>\n",
              "      <td>False</td>\n",
              "      <td>False</td>\n",
              "      <td>-0.095021</td>\n",
              "      <td>0.175175</td>\n",
              "      <td>0.914245</td>\n",
              "      <td>0.357359</td>\n",
              "      <td>50.0</td>\n",
              "      <td>concert_goer_707</td>\n",
              "      <td>180.0</td>\n",
              "      <td>United States of America (USA)</td>\n",
              "      <td>Did Not Enjoy</td>\n",
              "    </tr>\n",
              "    <tr>\n",
              "      <th>169996</th>\n",
              "      <td>ConcertExperience_192792</td>\n",
              "      <td>Crazy Joystick Cult</td>\n",
              "      <td>RnB</td>\n",
              "      <td>Canada</td>\n",
              "      <td>1985.0</td>\n",
              "      <td>963.0</td>\n",
              "      <td>54.0</td>\n",
              "      <td>False</td>\n",
              "      <td>False</td>\n",
              "      <td>False</td>\n",
              "      <td>-0.733719</td>\n",
              "      <td>-0.285776</td>\n",
              "      <td>-0.323312</td>\n",
              "      <td>0.641180</td>\n",
              "      <td>71.0</td>\n",
              "      <td>concert_goer_1373</td>\n",
              "      <td>143.0</td>\n",
              "      <td>Bulgaria</td>\n",
              "      <td>Worst Concert Ever</td>\n",
              "    </tr>\n",
              "    <tr>\n",
              "      <th>169997</th>\n",
              "      <td>ConcertExperience_152942</td>\n",
              "      <td>Why Frogs, Why?</td>\n",
              "      <td>Heavy Metal</td>\n",
              "      <td>Canada</td>\n",
              "      <td>2005.0</td>\n",
              "      <td>764.0</td>\n",
              "      <td>54.0</td>\n",
              "      <td>False</td>\n",
              "      <td>False</td>\n",
              "      <td>False</td>\n",
              "      <td>0.744969</td>\n",
              "      <td>-0.965547</td>\n",
              "      <td>1.020598</td>\n",
              "      <td>1.027389</td>\n",
              "      <td>27.0</td>\n",
              "      <td>concert_goer_1286</td>\n",
              "      <td>176.0</td>\n",
              "      <td>Canada</td>\n",
              "      <td>Did Not Enjoy</td>\n",
              "    </tr>\n",
              "    <tr>\n",
              "      <th>169998</th>\n",
              "      <td>ConcertExperience_138957</td>\n",
              "      <td>Twilight of the Joystick Gods</td>\n",
              "      <td>Hip Hop/Rap</td>\n",
              "      <td>United States of America (USA)</td>\n",
              "      <td>1995.0</td>\n",
              "      <td>694.0</td>\n",
              "      <td>22026.0</td>\n",
              "      <td>False</td>\n",
              "      <td>True</td>\n",
              "      <td>True</td>\n",
              "      <td>0.821976</td>\n",
              "      <td>0.351411</td>\n",
              "      <td>0.175762</td>\n",
              "      <td>1.455654</td>\n",
              "      <td>39.0</td>\n",
              "      <td>concert_goer_1845</td>\n",
              "      <td>176.0</td>\n",
              "      <td>Canada</td>\n",
              "      <td>Did Not Enjoy</td>\n",
              "    </tr>\n",
              "    <tr>\n",
              "      <th>169999</th>\n",
              "      <td>ConcertExperience_132336</td>\n",
              "      <td>Joystick Attack</td>\n",
              "      <td>Heavy Metal</td>\n",
              "      <td>United Kingdom (UK)</td>\n",
              "      <td>2008.0</td>\n",
              "      <td>661.0</td>\n",
              "      <td>2980.0</td>\n",
              "      <td>True</td>\n",
              "      <td>False</td>\n",
              "      <td>False</td>\n",
              "      <td>-1.017410</td>\n",
              "      <td>0.883248</td>\n",
              "      <td>-0.184107</td>\n",
              "      <td>0.631731</td>\n",
              "      <td>46.0</td>\n",
              "      <td>concert_goer_1281</td>\n",
              "      <td>146.0</td>\n",
              "      <td>Canada</td>\n",
              "      <td>Best Concert Ever</td>\n",
              "    </tr>\n",
              "  </tbody>\n",
              "</table>\n",
              "<p>170000 rows × 19 columns</p>\n",
              "</div>\n",
              "      <button class=\"colab-df-convert\" onclick=\"convertToInteractive('df-29b1c4f3-59fc-4976-b220-164eadd31478')\"\n",
              "              title=\"Convert this dataframe to an interactive table.\"\n",
              "              style=\"display:none;\">\n",
              "        \n",
              "  <svg xmlns=\"http://www.w3.org/2000/svg\" height=\"24px\"viewBox=\"0 0 24 24\"\n",
              "       width=\"24px\">\n",
              "    <path d=\"M0 0h24v24H0V0z\" fill=\"none\"/>\n",
              "    <path d=\"M18.56 5.44l.94 2.06.94-2.06 2.06-.94-2.06-.94-.94-2.06-.94 2.06-2.06.94zm-11 1L8.5 8.5l.94-2.06 2.06-.94-2.06-.94L8.5 2.5l-.94 2.06-2.06.94zm10 10l.94 2.06.94-2.06 2.06-.94-2.06-.94-.94-2.06-.94 2.06-2.06.94z\"/><path d=\"M17.41 7.96l-1.37-1.37c-.4-.4-.92-.59-1.43-.59-.52 0-1.04.2-1.43.59L10.3 9.45l-7.72 7.72c-.78.78-.78 2.05 0 2.83L4 21.41c.39.39.9.59 1.41.59.51 0 1.02-.2 1.41-.59l7.78-7.78 2.81-2.81c.8-.78.8-2.07 0-2.86zM5.41 20L4 18.59l7.72-7.72 1.47 1.35L5.41 20z\"/>\n",
              "  </svg>\n",
              "      </button>\n",
              "      \n",
              "  <style>\n",
              "    .colab-df-container {\n",
              "      display:flex;\n",
              "      flex-wrap:wrap;\n",
              "      gap: 12px;\n",
              "    }\n",
              "\n",
              "    .colab-df-convert {\n",
              "      background-color: #E8F0FE;\n",
              "      border: none;\n",
              "      border-radius: 50%;\n",
              "      cursor: pointer;\n",
              "      display: none;\n",
              "      fill: #1967D2;\n",
              "      height: 32px;\n",
              "      padding: 0 0 0 0;\n",
              "      width: 32px;\n",
              "    }\n",
              "\n",
              "    .colab-df-convert:hover {\n",
              "      background-color: #E2EBFA;\n",
              "      box-shadow: 0px 1px 2px rgba(60, 64, 67, 0.3), 0px 1px 3px 1px rgba(60, 64, 67, 0.15);\n",
              "      fill: #174EA6;\n",
              "    }\n",
              "\n",
              "    [theme=dark] .colab-df-convert {\n",
              "      background-color: #3B4455;\n",
              "      fill: #D2E3FC;\n",
              "    }\n",
              "\n",
              "    [theme=dark] .colab-df-convert:hover {\n",
              "      background-color: #434B5C;\n",
              "      box-shadow: 0px 1px 3px 1px rgba(0, 0, 0, 0.15);\n",
              "      filter: drop-shadow(0px 1px 2px rgba(0, 0, 0, 0.3));\n",
              "      fill: #FFFFFF;\n",
              "    }\n",
              "  </style>\n",
              "\n",
              "      <script>\n",
              "        const buttonEl =\n",
              "          document.querySelector('#df-29b1c4f3-59fc-4976-b220-164eadd31478 button.colab-df-convert');\n",
              "        buttonEl.style.display =\n",
              "          google.colab.kernel.accessAllowed ? 'block' : 'none';\n",
              "\n",
              "        async function convertToInteractive(key) {\n",
              "          const element = document.querySelector('#df-29b1c4f3-59fc-4976-b220-164eadd31478');\n",
              "          const dataTable =\n",
              "            await google.colab.kernel.invokeFunction('convertToInteractive',\n",
              "                                                     [key], {});\n",
              "          if (!dataTable) return;\n",
              "\n",
              "          const docLinkHtml = 'Like what you see? Visit the ' +\n",
              "            '<a target=\"_blank\" href=https://colab.research.google.com/notebooks/data_table.ipynb>data table notebook</a>'\n",
              "            + ' to learn more about interactive tables.';\n",
              "          element.innerHTML = '';\n",
              "          dataTable['output_type'] = 'display_data';\n",
              "          await google.colab.output.renderOutput(dataTable, element);\n",
              "          const docLink = document.createElement('div');\n",
              "          docLink.innerHTML = docLinkHtml;\n",
              "          element.appendChild(docLink);\n",
              "        }\n",
              "      </script>\n",
              "    </div>\n",
              "  </div>\n",
              "  "
            ]
          },
          "metadata": {},
          "execution_count": 16
        }
      ]
    },
    {
      "cell_type": "code",
      "source": [
        "#we do the same for the test set\n",
        "\n",
        "apply_string(df=df_test,df_origin=df_test,targ_column='Band Genre',source_column='Band Name')\n",
        "apply_string(df=df_test,df_origin=df_test,targ_column='Band Country of Origin',source_column='Band Name')\n",
        "apply_string(df=df_test,df_origin=df_test,targ_column='Concert Goer Country of Origin',source_column='Concert Goer ID')\n",
        "\n",
        "apply_num(df=df_test,df_origin=df_test,targ_column='Band Debut',source_column='Band Name')\n",
        "apply_num(df=df_test,df_origin=df_test,targ_column='Rain',source_column='Concert ID')\n",
        "apply_num(df=df_test,df_origin=df_test,targ_column='Concert Attendance',source_column='Concert ID')\n",
        "apply_num(df=df_test,df_origin=df_test,targ_column='Concert Goer Age',source_column='Concert Goer ID')\n",
        "apply_num(df=df_test,df_origin=df_test,targ_column='Height (cm)',source_column='Concert Goer ID')\n",
        "apply_num(df=df_test,df_origin=df_test,targ_column='Personnality Trait 1',source_column='Concert Goer ID')\n",
        "apply_num(df=df_test,df_origin=df_test,targ_column='Personnality Trait 2',source_column='Concert Goer ID')\n",
        "apply_num(df=df_test,df_origin=df_test,targ_column='Personnality Trait 3',source_column='Concert Goer ID')\n",
        "apply_num(df=df_test,df_origin=df_test,targ_column='Personnality Trait 4',source_column='Concert Goer ID')"
      ],
      "metadata": {
        "id": "Rmgu1CcvmbcU",
        "colab": {
          "base_uri": "https://localhost:8080/",
          "height": 1000
        },
        "outputId": "5b80fb38-49d2-45eb-a957-c407c7b10990"
      },
      "execution_count": null,
      "outputs": [
        {
          "output_type": "stream",
          "name": "stderr",
          "text": [
            "/usr/local/lib/python3.8/dist-packages/pandas/core/indexing.py:1732: SettingWithCopyWarning: \n",
            "A value is trying to be set on a copy of a slice from a DataFrame\n",
            "\n",
            "See the caveats in the documentation: https://pandas.pydata.org/pandas-docs/stable/user_guide/indexing.html#returning-a-view-versus-a-copy\n",
            "  self._setitem_single_block(indexer, value, name)\n"
          ]
        },
        {
          "output_type": "execute_result",
          "data": {
            "text/plain": [
              "                             Id                            Band Name  \\\n",
              "0       ConcertExperience_70055            The Crazy Heroes of Devon   \n",
              "1       ConcertExperience_34799             Joystick for the Jockies   \n",
              "2      ConcertExperience_100410                   Puddle of Joystick   \n",
              "3      ConcertExperience_106446               Flight of the Knickers   \n",
              "4      ConcertExperience_127249                        Devon Revival   \n",
              "...                         ...                                  ...   \n",
              "29995   ConcertExperience_82288         Joystick of the Big Knickers   \n",
              "29996   ConcertExperience_27139                         Big Division   \n",
              "29997  ConcertExperience_197434                            Crazyplay   \n",
              "29998  ConcertExperience_166029              Lord of the Crazy Frogs   \n",
              "29999   ConcertExperience_24025  Crazy Dream and a Pinch of Joystick   \n",
              "\n",
              "        Band Genre          Band Country of Origin  Band Debut  Concert ID  \\\n",
              "0      Rock n Roll  United States of America (USA)      1980.0       350.0   \n",
              "1      Hip Hop/Rap  United States of America (USA)      2014.0       173.0   \n",
              "2      Rock n Roll                          Canada      2010.0       502.0   \n",
              "3      Hip Hop/Rap                          Canada      2014.0       532.0   \n",
              "4              RnB  United States of America (USA)      1992.0       636.0   \n",
              "...            ...                             ...         ...         ...   \n",
              "29995  Hip Hop/Rap  United States of America (USA)      1979.0       411.0   \n",
              "29996  Hip Hop/Rap  United States of America (USA)      1978.0       135.0   \n",
              "29997    Pop Music  United States of America (USA)      1995.0       987.0   \n",
              "29998          RnB  United States of America (USA)      1968.0       830.0   \n",
              "29999  Heavy Metal  United States of America (USA)      1995.0       120.0   \n",
              "\n",
              "       Concert Attendance Inside Venue   Rain Seated  Personnality Trait 1  \\\n",
              "0                  2980.0         True  False   True              1.065107   \n",
              "1                  8103.0         True   True  False             -0.886947   \n",
              "2                  2980.0         True   True  False              0.744700   \n",
              "3                 22026.0         True  False  False             -0.134180   \n",
              "4                  2980.0        False  False  False              1.407366   \n",
              "...                   ...          ...    ...    ...                   ...   \n",
              "29995              2980.0         True  False  False             -0.421714   \n",
              "29996              8103.0         True  False  False              0.615087   \n",
              "29997              8103.0        False  False   True             -1.396551   \n",
              "29998              8103.0        False   True  False              0.168073   \n",
              "29999                54.0        False   True  False             -0.248370   \n",
              "\n",
              "       Personnality Trait 2  Personnality Trait 3  Personnality Trait 4  \\\n",
              "0                  0.057660              0.249639             -0.933976   \n",
              "1                  0.801365              0.525624              0.176655   \n",
              "2                 -0.797531             -0.034166             -0.226052   \n",
              "3                 -0.361512              0.969404             -2.341205   \n",
              "4                 -0.084155             -0.673233              1.733714   \n",
              "...                     ...                   ...                   ...   \n",
              "29995             -1.549670             -0.351770              0.132489   \n",
              "29996             -0.047092              0.339228              0.820159   \n",
              "29997             -0.508627             -1.692584              1.640931   \n",
              "29998             -0.785460              0.898273              1.608389   \n",
              "29999             -0.809340              0.085226             -0.133507   \n",
              "\n",
              "       Concert Goer Age    Concert Goer ID  Height (cm)  \\\n",
              "0                  74.0  concert_goer_1587        165.0   \n",
              "1                  29.0   concert_goer_293        151.0   \n",
              "2                  27.0  concert_goer_1068        146.0   \n",
              "3                  38.0  concert_goer_1315        183.0   \n",
              "4                  21.0  concert_goer_1777        177.0   \n",
              "...                 ...                ...          ...   \n",
              "29995              42.0  concert_goer_1710        178.0   \n",
              "29996              37.0  concert_goer_1758        186.0   \n",
              "29997              45.0  concert_goer_1481        158.0   \n",
              "29998              36.0  concert_goer_1461        170.0   \n",
              "29999              47.0  concert_goer_1617        189.0   \n",
              "\n",
              "       Concert Goer Country of Origin  \n",
              "0      United States of America (USA)  \n",
              "1                               Kenya  \n",
              "2                              Canada  \n",
              "3      United States of America (USA)  \n",
              "4                                Fiji  \n",
              "...                               ...  \n",
              "29995  United States of America (USA)  \n",
              "29996                          Canada  \n",
              "29997                          Greece  \n",
              "29998             United Kingdom (UK)  \n",
              "29999                          Canada  \n",
              "\n",
              "[30000 rows x 18 columns]"
            ],
            "text/html": [
              "\n",
              "  <div id=\"df-c95214d0-2836-4f15-8da1-7ac5e80f62f8\">\n",
              "    <div class=\"colab-df-container\">\n",
              "      <div>\n",
              "<style scoped>\n",
              "    .dataframe tbody tr th:only-of-type {\n",
              "        vertical-align: middle;\n",
              "    }\n",
              "\n",
              "    .dataframe tbody tr th {\n",
              "        vertical-align: top;\n",
              "    }\n",
              "\n",
              "    .dataframe thead th {\n",
              "        text-align: right;\n",
              "    }\n",
              "</style>\n",
              "<table border=\"1\" class=\"dataframe\">\n",
              "  <thead>\n",
              "    <tr style=\"text-align: right;\">\n",
              "      <th></th>\n",
              "      <th>Id</th>\n",
              "      <th>Band Name</th>\n",
              "      <th>Band Genre</th>\n",
              "      <th>Band Country of Origin</th>\n",
              "      <th>Band Debut</th>\n",
              "      <th>Concert ID</th>\n",
              "      <th>Concert Attendance</th>\n",
              "      <th>Inside Venue</th>\n",
              "      <th>Rain</th>\n",
              "      <th>Seated</th>\n",
              "      <th>Personnality Trait 1</th>\n",
              "      <th>Personnality Trait 2</th>\n",
              "      <th>Personnality Trait 3</th>\n",
              "      <th>Personnality Trait 4</th>\n",
              "      <th>Concert Goer Age</th>\n",
              "      <th>Concert Goer ID</th>\n",
              "      <th>Height (cm)</th>\n",
              "      <th>Concert Goer Country of Origin</th>\n",
              "    </tr>\n",
              "  </thead>\n",
              "  <tbody>\n",
              "    <tr>\n",
              "      <th>0</th>\n",
              "      <td>ConcertExperience_70055</td>\n",
              "      <td>The Crazy Heroes of Devon</td>\n",
              "      <td>Rock n Roll</td>\n",
              "      <td>United States of America (USA)</td>\n",
              "      <td>1980.0</td>\n",
              "      <td>350.0</td>\n",
              "      <td>2980.0</td>\n",
              "      <td>True</td>\n",
              "      <td>False</td>\n",
              "      <td>True</td>\n",
              "      <td>1.065107</td>\n",
              "      <td>0.057660</td>\n",
              "      <td>0.249639</td>\n",
              "      <td>-0.933976</td>\n",
              "      <td>74.0</td>\n",
              "      <td>concert_goer_1587</td>\n",
              "      <td>165.0</td>\n",
              "      <td>United States of America (USA)</td>\n",
              "    </tr>\n",
              "    <tr>\n",
              "      <th>1</th>\n",
              "      <td>ConcertExperience_34799</td>\n",
              "      <td>Joystick for the Jockies</td>\n",
              "      <td>Hip Hop/Rap</td>\n",
              "      <td>United States of America (USA)</td>\n",
              "      <td>2014.0</td>\n",
              "      <td>173.0</td>\n",
              "      <td>8103.0</td>\n",
              "      <td>True</td>\n",
              "      <td>True</td>\n",
              "      <td>False</td>\n",
              "      <td>-0.886947</td>\n",
              "      <td>0.801365</td>\n",
              "      <td>0.525624</td>\n",
              "      <td>0.176655</td>\n",
              "      <td>29.0</td>\n",
              "      <td>concert_goer_293</td>\n",
              "      <td>151.0</td>\n",
              "      <td>Kenya</td>\n",
              "    </tr>\n",
              "    <tr>\n",
              "      <th>2</th>\n",
              "      <td>ConcertExperience_100410</td>\n",
              "      <td>Puddle of Joystick</td>\n",
              "      <td>Rock n Roll</td>\n",
              "      <td>Canada</td>\n",
              "      <td>2010.0</td>\n",
              "      <td>502.0</td>\n",
              "      <td>2980.0</td>\n",
              "      <td>True</td>\n",
              "      <td>True</td>\n",
              "      <td>False</td>\n",
              "      <td>0.744700</td>\n",
              "      <td>-0.797531</td>\n",
              "      <td>-0.034166</td>\n",
              "      <td>-0.226052</td>\n",
              "      <td>27.0</td>\n",
              "      <td>concert_goer_1068</td>\n",
              "      <td>146.0</td>\n",
              "      <td>Canada</td>\n",
              "    </tr>\n",
              "    <tr>\n",
              "      <th>3</th>\n",
              "      <td>ConcertExperience_106446</td>\n",
              "      <td>Flight of the Knickers</td>\n",
              "      <td>Hip Hop/Rap</td>\n",
              "      <td>Canada</td>\n",
              "      <td>2014.0</td>\n",
              "      <td>532.0</td>\n",
              "      <td>22026.0</td>\n",
              "      <td>True</td>\n",
              "      <td>False</td>\n",
              "      <td>False</td>\n",
              "      <td>-0.134180</td>\n",
              "      <td>-0.361512</td>\n",
              "      <td>0.969404</td>\n",
              "      <td>-2.341205</td>\n",
              "      <td>38.0</td>\n",
              "      <td>concert_goer_1315</td>\n",
              "      <td>183.0</td>\n",
              "      <td>United States of America (USA)</td>\n",
              "    </tr>\n",
              "    <tr>\n",
              "      <th>4</th>\n",
              "      <td>ConcertExperience_127249</td>\n",
              "      <td>Devon Revival</td>\n",
              "      <td>RnB</td>\n",
              "      <td>United States of America (USA)</td>\n",
              "      <td>1992.0</td>\n",
              "      <td>636.0</td>\n",
              "      <td>2980.0</td>\n",
              "      <td>False</td>\n",
              "      <td>False</td>\n",
              "      <td>False</td>\n",
              "      <td>1.407366</td>\n",
              "      <td>-0.084155</td>\n",
              "      <td>-0.673233</td>\n",
              "      <td>1.733714</td>\n",
              "      <td>21.0</td>\n",
              "      <td>concert_goer_1777</td>\n",
              "      <td>177.0</td>\n",
              "      <td>Fiji</td>\n",
              "    </tr>\n",
              "    <tr>\n",
              "      <th>...</th>\n",
              "      <td>...</td>\n",
              "      <td>...</td>\n",
              "      <td>...</td>\n",
              "      <td>...</td>\n",
              "      <td>...</td>\n",
              "      <td>...</td>\n",
              "      <td>...</td>\n",
              "      <td>...</td>\n",
              "      <td>...</td>\n",
              "      <td>...</td>\n",
              "      <td>...</td>\n",
              "      <td>...</td>\n",
              "      <td>...</td>\n",
              "      <td>...</td>\n",
              "      <td>...</td>\n",
              "      <td>...</td>\n",
              "      <td>...</td>\n",
              "      <td>...</td>\n",
              "    </tr>\n",
              "    <tr>\n",
              "      <th>29995</th>\n",
              "      <td>ConcertExperience_82288</td>\n",
              "      <td>Joystick of the Big Knickers</td>\n",
              "      <td>Hip Hop/Rap</td>\n",
              "      <td>United States of America (USA)</td>\n",
              "      <td>1979.0</td>\n",
              "      <td>411.0</td>\n",
              "      <td>2980.0</td>\n",
              "      <td>True</td>\n",
              "      <td>False</td>\n",
              "      <td>False</td>\n",
              "      <td>-0.421714</td>\n",
              "      <td>-1.549670</td>\n",
              "      <td>-0.351770</td>\n",
              "      <td>0.132489</td>\n",
              "      <td>42.0</td>\n",
              "      <td>concert_goer_1710</td>\n",
              "      <td>178.0</td>\n",
              "      <td>United States of America (USA)</td>\n",
              "    </tr>\n",
              "    <tr>\n",
              "      <th>29996</th>\n",
              "      <td>ConcertExperience_27139</td>\n",
              "      <td>Big Division</td>\n",
              "      <td>Hip Hop/Rap</td>\n",
              "      <td>United States of America (USA)</td>\n",
              "      <td>1978.0</td>\n",
              "      <td>135.0</td>\n",
              "      <td>8103.0</td>\n",
              "      <td>True</td>\n",
              "      <td>False</td>\n",
              "      <td>False</td>\n",
              "      <td>0.615087</td>\n",
              "      <td>-0.047092</td>\n",
              "      <td>0.339228</td>\n",
              "      <td>0.820159</td>\n",
              "      <td>37.0</td>\n",
              "      <td>concert_goer_1758</td>\n",
              "      <td>186.0</td>\n",
              "      <td>Canada</td>\n",
              "    </tr>\n",
              "    <tr>\n",
              "      <th>29997</th>\n",
              "      <td>ConcertExperience_197434</td>\n",
              "      <td>Crazyplay</td>\n",
              "      <td>Pop Music</td>\n",
              "      <td>United States of America (USA)</td>\n",
              "      <td>1995.0</td>\n",
              "      <td>987.0</td>\n",
              "      <td>8103.0</td>\n",
              "      <td>False</td>\n",
              "      <td>False</td>\n",
              "      <td>True</td>\n",
              "      <td>-1.396551</td>\n",
              "      <td>-0.508627</td>\n",
              "      <td>-1.692584</td>\n",
              "      <td>1.640931</td>\n",
              "      <td>45.0</td>\n",
              "      <td>concert_goer_1481</td>\n",
              "      <td>158.0</td>\n",
              "      <td>Greece</td>\n",
              "    </tr>\n",
              "    <tr>\n",
              "      <th>29998</th>\n",
              "      <td>ConcertExperience_166029</td>\n",
              "      <td>Lord of the Crazy Frogs</td>\n",
              "      <td>RnB</td>\n",
              "      <td>United States of America (USA)</td>\n",
              "      <td>1968.0</td>\n",
              "      <td>830.0</td>\n",
              "      <td>8103.0</td>\n",
              "      <td>False</td>\n",
              "      <td>True</td>\n",
              "      <td>False</td>\n",
              "      <td>0.168073</td>\n",
              "      <td>-0.785460</td>\n",
              "      <td>0.898273</td>\n",
              "      <td>1.608389</td>\n",
              "      <td>36.0</td>\n",
              "      <td>concert_goer_1461</td>\n",
              "      <td>170.0</td>\n",
              "      <td>United Kingdom (UK)</td>\n",
              "    </tr>\n",
              "    <tr>\n",
              "      <th>29999</th>\n",
              "      <td>ConcertExperience_24025</td>\n",
              "      <td>Crazy Dream and a Pinch of Joystick</td>\n",
              "      <td>Heavy Metal</td>\n",
              "      <td>United States of America (USA)</td>\n",
              "      <td>1995.0</td>\n",
              "      <td>120.0</td>\n",
              "      <td>54.0</td>\n",
              "      <td>False</td>\n",
              "      <td>True</td>\n",
              "      <td>False</td>\n",
              "      <td>-0.248370</td>\n",
              "      <td>-0.809340</td>\n",
              "      <td>0.085226</td>\n",
              "      <td>-0.133507</td>\n",
              "      <td>47.0</td>\n",
              "      <td>concert_goer_1617</td>\n",
              "      <td>189.0</td>\n",
              "      <td>Canada</td>\n",
              "    </tr>\n",
              "  </tbody>\n",
              "</table>\n",
              "<p>30000 rows × 18 columns</p>\n",
              "</div>\n",
              "      <button class=\"colab-df-convert\" onclick=\"convertToInteractive('df-c95214d0-2836-4f15-8da1-7ac5e80f62f8')\"\n",
              "              title=\"Convert this dataframe to an interactive table.\"\n",
              "              style=\"display:none;\">\n",
              "        \n",
              "  <svg xmlns=\"http://www.w3.org/2000/svg\" height=\"24px\"viewBox=\"0 0 24 24\"\n",
              "       width=\"24px\">\n",
              "    <path d=\"M0 0h24v24H0V0z\" fill=\"none\"/>\n",
              "    <path d=\"M18.56 5.44l.94 2.06.94-2.06 2.06-.94-2.06-.94-.94-2.06-.94 2.06-2.06.94zm-11 1L8.5 8.5l.94-2.06 2.06-.94-2.06-.94L8.5 2.5l-.94 2.06-2.06.94zm10 10l.94 2.06.94-2.06 2.06-.94-2.06-.94-.94-2.06-.94 2.06-2.06.94z\"/><path d=\"M17.41 7.96l-1.37-1.37c-.4-.4-.92-.59-1.43-.59-.52 0-1.04.2-1.43.59L10.3 9.45l-7.72 7.72c-.78.78-.78 2.05 0 2.83L4 21.41c.39.39.9.59 1.41.59.51 0 1.02-.2 1.41-.59l7.78-7.78 2.81-2.81c.8-.78.8-2.07 0-2.86zM5.41 20L4 18.59l7.72-7.72 1.47 1.35L5.41 20z\"/>\n",
              "  </svg>\n",
              "      </button>\n",
              "      \n",
              "  <style>\n",
              "    .colab-df-container {\n",
              "      display:flex;\n",
              "      flex-wrap:wrap;\n",
              "      gap: 12px;\n",
              "    }\n",
              "\n",
              "    .colab-df-convert {\n",
              "      background-color: #E8F0FE;\n",
              "      border: none;\n",
              "      border-radius: 50%;\n",
              "      cursor: pointer;\n",
              "      display: none;\n",
              "      fill: #1967D2;\n",
              "      height: 32px;\n",
              "      padding: 0 0 0 0;\n",
              "      width: 32px;\n",
              "    }\n",
              "\n",
              "    .colab-df-convert:hover {\n",
              "      background-color: #E2EBFA;\n",
              "      box-shadow: 0px 1px 2px rgba(60, 64, 67, 0.3), 0px 1px 3px 1px rgba(60, 64, 67, 0.15);\n",
              "      fill: #174EA6;\n",
              "    }\n",
              "\n",
              "    [theme=dark] .colab-df-convert {\n",
              "      background-color: #3B4455;\n",
              "      fill: #D2E3FC;\n",
              "    }\n",
              "\n",
              "    [theme=dark] .colab-df-convert:hover {\n",
              "      background-color: #434B5C;\n",
              "      box-shadow: 0px 1px 3px 1px rgba(0, 0, 0, 0.15);\n",
              "      filter: drop-shadow(0px 1px 2px rgba(0, 0, 0, 0.3));\n",
              "      fill: #FFFFFF;\n",
              "    }\n",
              "  </style>\n",
              "\n",
              "      <script>\n",
              "        const buttonEl =\n",
              "          document.querySelector('#df-c95214d0-2836-4f15-8da1-7ac5e80f62f8 button.colab-df-convert');\n",
              "        buttonEl.style.display =\n",
              "          google.colab.kernel.accessAllowed ? 'block' : 'none';\n",
              "\n",
              "        async function convertToInteractive(key) {\n",
              "          const element = document.querySelector('#df-c95214d0-2836-4f15-8da1-7ac5e80f62f8');\n",
              "          const dataTable =\n",
              "            await google.colab.kernel.invokeFunction('convertToInteractive',\n",
              "                                                     [key], {});\n",
              "          if (!dataTable) return;\n",
              "\n",
              "          const docLinkHtml = 'Like what you see? Visit the ' +\n",
              "            '<a target=\"_blank\" href=https://colab.research.google.com/notebooks/data_table.ipynb>data table notebook</a>'\n",
              "            + ' to learn more about interactive tables.';\n",
              "          element.innerHTML = '';\n",
              "          dataTable['output_type'] = 'display_data';\n",
              "          await google.colab.output.renderOutput(dataTable, element);\n",
              "          const docLink = document.createElement('div');\n",
              "          docLink.innerHTML = docLinkHtml;\n",
              "          element.appendChild(docLink);\n",
              "        }\n",
              "      </script>\n",
              "    </div>\n",
              "  </div>\n",
              "  "
            ]
          },
          "metadata": {},
          "execution_count": 17
        }
      ]
    },
    {
      "cell_type": "markdown",
      "source": [
        "\n",
        "> ## 4. Replace the last missing values\n",
        "\n",
        "\n"
      ],
      "metadata": {
        "id": "9bWJP4kvnfIh"
      }
    },
    {
      "cell_type": "markdown",
      "source": [
        "We still have some missing values, therefore we will impute them"
      ],
      "metadata": {
        "id": "YaHV90Z5nfdV"
      }
    },
    {
      "cell_type": "code",
      "source": [
        "df_test.isna().sum()"
      ],
      "metadata": {
        "colab": {
          "base_uri": "https://localhost:8080/"
        },
        "id": "Hv8lCsTXnRq3",
        "outputId": "fe90a8e0-6e35-4474-9c6d-e2a0acaa1836"
      },
      "execution_count": null,
      "outputs": [
        {
          "output_type": "execute_result",
          "data": {
            "text/plain": [
              "Id                                  0\n",
              "Band Name                         161\n",
              "Band Genre                          2\n",
              "Band Country of Origin              2\n",
              "Band Debut                          1\n",
              "Concert ID                        158\n",
              "Concert Attendance                  0\n",
              "Inside Venue                      166\n",
              "Rain                                0\n",
              "Seated                            142\n",
              "Personnality Trait 1                1\n",
              "Personnality Trait 2                3\n",
              "Personnality Trait 3                2\n",
              "Personnality Trait 4                0\n",
              "Concert Goer Age                    0\n",
              "Concert Goer ID                   145\n",
              "Height (cm)                         1\n",
              "Concert Goer Country of Origin      1\n",
              "dtype: int64"
            ]
          },
          "metadata": {},
          "execution_count": 18
        }
      ]
    },
    {
      "cell_type": "code",
      "source": [
        "# IMPUTE MISSING VALUES \n",
        "\n",
        "impute_mean = SimpleImputer(missing_values=np.nan, strategy='mean')\n",
        "impute_most_frequent = SimpleImputer(missing_values=np.nan, strategy='most_frequent')\n",
        "\n",
        "numeric_columns_names = ['Band Debut','Concert Attendance','Personnality Trait 3','Personnality Trait 4','Personnality Trait 1','Personnality Trait 2','Concert Goer Age', 'Height (cm)']\n",
        "categorical_columns_names = ['Band Name','Concert ID', 'Band Genre', 'Band Country of Origin','Concert Goer ID','Concert Goer Country of Origin', 'Inside Venue', 'Rain', 'Seated']\n",
        "\n",
        "\n",
        "#For the training set\n",
        "\n",
        "#Impute Mean for numeric columns\n",
        "impute_mean = impute_mean.fit(df_train[numeric_columns_names])\n",
        "df_train[numeric_columns_names] = impute_mean.transform(df_train[numeric_columns_names])\n",
        "\n",
        "#Impute Most Frequent for categorical columns\n",
        "impute_most_frequent = impute_most_frequent.fit(df_train[categorical_columns_names])\n",
        "df_train[categorical_columns_names] = impute_most_frequent.transform(df_train[categorical_columns_names])\n",
        "\n",
        "\n",
        "#For the test set\n",
        "\n",
        "#Impute Mean for numeric columns\n",
        "impute_mean = impute_mean.fit(df_test[numeric_columns_names])\n",
        "df_test[numeric_columns_names] = impute_mean.transform(df_test[numeric_columns_names])\n",
        "\n",
        "#Impute Most Frequent for categorical columns\n",
        "impute_most_frequent = impute_most_frequent.fit(df_test[categorical_columns_names])\n",
        "df_test[categorical_columns_names] = impute_most_frequent.transform(df_test[categorical_columns_names])\n",
        "\n",
        "\n",
        "\n",
        "df_train_imputed = df_train\n",
        "df_test_imputed = df_test\n"
      ],
      "metadata": {
        "id": "LE5hGumbnzV_"
      },
      "execution_count": null,
      "outputs": []
    },
    {
      "cell_type": "code",
      "source": [
        "#Let's check now if there are some missing values\n",
        "df_test_imputed.isna().sum()"
      ],
      "metadata": {
        "colab": {
          "base_uri": "https://localhost:8080/"
        },
        "id": "p1KzDUJQn5RG",
        "outputId": "c878b58e-f69d-48cd-d04e-b8d8a39787d0"
      },
      "execution_count": null,
      "outputs": [
        {
          "output_type": "execute_result",
          "data": {
            "text/plain": [
              "Id                                0\n",
              "Band Name                         0\n",
              "Band Genre                        0\n",
              "Band Country of Origin            0\n",
              "Band Debut                        0\n",
              "Concert ID                        0\n",
              "Concert Attendance                0\n",
              "Inside Venue                      0\n",
              "Rain                              0\n",
              "Seated                            0\n",
              "Personnality Trait 1              0\n",
              "Personnality Trait 2              0\n",
              "Personnality Trait 3              0\n",
              "Personnality Trait 4              0\n",
              "Concert Goer Age                  0\n",
              "Concert Goer ID                   0\n",
              "Height (cm)                       0\n",
              "Concert Goer Country of Origin    0\n",
              "dtype: int64"
            ]
          },
          "metadata": {},
          "execution_count": 20
        }
      ]
    },
    {
      "cell_type": "markdown",
      "source": [
        "#IV. Encoding and scaling our features"
      ],
      "metadata": {
        "id": "NVeBiUHOn-S3"
      }
    },
    {
      "cell_type": "markdown",
      "source": [
        "\n",
        "\n",
        "> ## 1. Encoding our categorical variables \n",
        "\n"
      ],
      "metadata": {
        "id": "f4BxhRanoMX6"
      }
    },
    {
      "cell_type": "code",
      "source": [
        "#Encoding our Y output on the train set \n",
        "df_train_imputed['Concert Enjoyment'].replace('Worst Concert Ever', '0', inplace=True)\n",
        "df_train_imputed['Concert Enjoyment'].replace('Did Not Enjoy', '1', inplace=True)\n",
        "df_train_imputed['Concert Enjoyment'].replace('Enjoyed', '2', inplace=True)\n",
        "df_train_imputed['Concert Enjoyment'].replace('Best Concert Ever', '3', inplace=True)"
      ],
      "metadata": {
        "id": "k2S00LbuoMez"
      },
      "execution_count": null,
      "outputs": []
    },
    {
      "cell_type": "code",
      "source": [
        "# Delete unnecessary variables (we won't need the ID during the training)\n",
        "df_train_imputed = df_train_imputed.drop(columns=['Id'])"
      ],
      "metadata": {
        "id": "idGiq5zNpNuO"
      },
      "execution_count": null,
      "outputs": []
    },
    {
      "cell_type": "code",
      "source": [
        "df_uniques_train = pd.DataFrame([[i, len(df_train_imputed[i].unique())] for i in df_train_imputed.columns], columns=['Variable', 'Unique Values']).set_index('Variable')\n",
        "df_uniques_test = pd.DataFrame([[i, len(df_test_imputed[i].unique())] for i in df_test_imputed.columns], columns=['Variable', 'Unique Values']).set_index('Variable')"
      ],
      "metadata": {
        "id": "Obn28p4dpdSy"
      },
      "execution_count": null,
      "outputs": []
    },
    {
      "cell_type": "code",
      "source": [
        "binary_variables_train = list(df_uniques_train[df_uniques_train['Unique Values'] == 2].index)\n",
        "binary_variables_test = list(df_uniques_test[df_uniques_test['Unique Values'] == 2].index)"
      ],
      "metadata": {
        "id": "DStrmyS0piGO"
      },
      "execution_count": null,
      "outputs": []
    },
    {
      "cell_type": "code",
      "source": [
        "#Binarization : convert a single column of boolean values to a column of integers 1 or 0\n",
        "df_train_imputed[\"Inside Venue\"] = df_train_imputed[\"Inside Venue\"].astype(int)\n",
        "df_train_imputed[\"Rain\"] = df_train_imputed[\"Rain\"].astype(int)\n",
        "df_train_imputed[\"Seated\"] = df_train_imputed[\"Seated\"].astype(int)\n",
        "\n",
        "df_test_imputed[\"Inside Venue\"] = df_test_imputed[\"Inside Venue\"].astype(int)\n",
        "df_test_imputed[\"Rain\"] = df_test_imputed[\"Rain\"].astype(int)\n",
        "df_test_imputed[\"Seated\"] = df_test_imputed[\"Seated\"].astype(int)"
      ],
      "metadata": {
        "id": "4XJsD6FjpiJK"
      },
      "execution_count": null,
      "outputs": []
    },
    {
      "cell_type": "code",
      "source": [
        "#One Hot Encoding for the categorial features\n",
        "categorical_variables = ['Band Name', 'Concert ID', 'Band Genre', 'Band Country of Origin','Concert Goer ID','Concert Goer Country of Origin']\n",
        "df_train_imputed = pd.get_dummies(df_train_imputed, columns = categorical_variables)\n",
        "df_test_imputed = pd.get_dummies(df_test_imputed, columns = categorical_variables)"
      ],
      "metadata": {
        "id": "Sx2WyETgpiLk"
      },
      "execution_count": null,
      "outputs": []
    },
    {
      "cell_type": "code",
      "source": [
        "df_train_imputed.info()"
      ],
      "metadata": {
        "colab": {
          "base_uri": "https://localhost:8080/"
        },
        "id": "-8mw0DfiJHds",
        "outputId": "37af4501-8cc8-4e27-a062-abbdfc11e503"
      },
      "execution_count": null,
      "outputs": [
        {
          "output_type": "stream",
          "name": "stdout",
          "text": [
            "<class 'pandas.core.frame.DataFrame'>\n",
            "RangeIndex: 170000 entries, 0 to 169999\n",
            "Columns: 3227 entries, Band Debut to Concert Goer Country of Origin_Zimbabwe\n",
            "dtypes: float64(8), int64(3), object(1), uint8(3215)\n",
            "memory usage: 536.8+ MB\n"
          ]
        }
      ]
    },
    {
      "cell_type": "code",
      "source": [
        "numeric_variables = ['Concert Attendance',\n",
        "'Band Debut',\n",
        " 'Height (cm)',\n",
        " 'Personnality Trait 3',\n",
        " 'Personnality Trait 4',\n",
        " 'Personnality Trait 1',\n",
        " 'Personnality Trait 2',\n",
        " 'Concert Goer Age']"
      ],
      "metadata": {
        "id": "e_46gjyIpx6M"
      },
      "execution_count": null,
      "outputs": []
    },
    {
      "cell_type": "markdown",
      "source": [
        "\n",
        "> ## 2. Scaling our features\n",
        "\n",
        "\n"
      ],
      "metadata": {
        "id": "U3bYyw3Vsk8l"
      }
    },
    {
      "cell_type": "markdown",
      "source": [
        "We tried several methods for scaling our features"
      ],
      "metadata": {
        "id": "FNyq6vQbs1MW"
      }
    },
    {
      "cell_type": "code",
      "execution_count": null,
      "metadata": {
        "id": "E_m7WDCjvyWr"
      },
      "outputs": [],
      "source": [
        "\n",
        "\n",
        "# TECHNIQUE 1 : STANDARD SCALER\n",
        "\"\"\"\n",
        "from sklearn.preprocessing import StandardScaler\n",
        "Scaler = StandardScaler()\n",
        "\n",
        "\n",
        "#Scale the ordinal and numerical variables\n",
        "for column in [numeric_variables]:\n",
        "    df_train_imputed[column] = Scaler.fit_transform(df_train_imputed[column])\n",
        "\n",
        "#Scale the ordinal and numerical variables\n",
        "for column in [numeric_variables]:\n",
        "    df_test_imputed[column] = Scaler.fit_transform(df_test_imputed[column])\"\"\"\n",
        "\n",
        "# TECHNIQUE 2 : MinMax Scaler \n",
        "\n",
        "#These feature are always postive, so we will scale them in the interval [0,1]\n",
        "numeric_variables1= ['Concert Attendance',\n",
        "'Band Debut',\n",
        " 'Height (cm)',\n",
        " 'Concert Goer Age']\n",
        "\n",
        "#These feature can be either positive or negative, so we will scale them in the interval [-1,1]\n",
        "numeric_variables2 = [ 'Personnality Trait 3',\n",
        " 'Personnality Trait 4',\n",
        " 'Personnality Trait 1',\n",
        " 'Personnality Trait 2',]\n",
        "\n",
        "from sklearn.preprocessing import MinMaxScaler\n",
        "mmScaler1 = MinMaxScaler()\n",
        "\n",
        "for column in [numeric_variables1]:#For the training set\n",
        "    df_train_imputed[column] = mmScaler1.fit_transform(df_train_imputed[column])\n",
        "\n",
        "for column in [numeric_variables1]:#For the test set\n",
        "    df_test_imputed[column] = mmScaler1.fit_transform(df_test_imputed[column])\n",
        "\n",
        "\n",
        "mmScaler2 = MinMaxScaler((-1,1))\n",
        "\n",
        "for column in [numeric_variables2]:#For the training set\n",
        "    df_train_imputed[column] = mmScaler2.fit_transform(df_train_imputed[column])\n",
        "\n",
        "#Scale the ordinal and numerical variables\n",
        "for column in [numeric_variables2]:#For the test set\n",
        "    df_test_imputed[column] = mmScaler2.fit_transform(df_test_imputed[column])"
      ]
    },
    {
      "cell_type": "code",
      "source": [
        "#Scale numerical features\n",
        "#Check after the scaling \n",
        "df_train_imputed[\"Personnality Trait 2\"].describe().T"
      ],
      "metadata": {
        "colab": {
          "base_uri": "https://localhost:8080/"
        },
        "id": "RGRbCcIfp772",
        "outputId": "95fbe2d4-94a5-4990-f448-ba0ba27535cd"
      },
      "execution_count": null,
      "outputs": [
        {
          "output_type": "execute_result",
          "data": {
            "text/plain": [
              "count    170000.000000\n",
              "mean          0.061596\n",
              "std           0.238700\n",
              "min          -1.000000\n",
              "25%          -0.099865\n",
              "50%           0.061505\n",
              "75%           0.223224\n",
              "max           1.000000\n",
              "Name: Personnality Trait 2, dtype: float64"
            ]
          },
          "metadata": {},
          "execution_count": 30
        }
      ]
    },
    {
      "cell_type": "markdown",
      "source": [
        "#V. Light EDA"
      ],
      "metadata": {
        "id": "fK-e9dr9piUO"
      }
    },
    {
      "cell_type": "markdown",
      "source": [
        "\n",
        "\n",
        "> ## 1. Our Y output\n",
        "\n"
      ],
      "metadata": {
        "id": "3w7xiAR5Aruj"
      }
    },
    {
      "cell_type": "code",
      "source": [
        "# Check the distribution of our Y output\n",
        "import seaborn as sns\n",
        "ax = sns.catplot(y=\"Concert Enjoyment\", kind=\"count\", data=df_train_imputed, height=2.6, aspect=2.5, orient='h')"
      ],
      "metadata": {
        "colab": {
          "base_uri": "https://localhost:8080/",
          "height": 54
        },
        "id": "TwQgDUa3picn",
        "outputId": "83e602d3-2746-4744-cf7c-ebbbd741d7a5"
      },
      "execution_count": null,
      "outputs": [
        {
          "output_type": "display_data",
          "data": {
            "text/plain": [
              "<Figure size 468x187.2 with 1 Axes>"
            ],
            "image/png": "[encoded data removed]"
          },
          "metadata": {
            "needs_background": "light"
          }
        }
      ]
    },
    {
      "cell_type": "markdown",
      "source": [
        "We can see that our classes are imbalanced. We tried different methods (Smote, oversampling, undersampling but they did not improved our model). "
      ],
      "metadata": {
        "id": "eOe1fqzQAT-j"
      }
    },
    {
      "cell_type": "markdown",
      "source": [
        "\n",
        "\n",
        "> ## 2. Correlation matrix\n",
        "\n"
      ],
      "metadata": {
        "id": "lI2WPOT7AyjR"
      }
    },
    {
      "cell_type": "code",
      "source": [
        "# We want to see the correlation on the initial dataframe (for the numerical variables)\n",
        "df_train_corr = df_train\n",
        "#Encoding our Y Output\n",
        "from sklearn.preprocessing import LabelEncoder\n",
        "LabEnc = LabelEncoder()\n",
        "df_train_corr['Concert Enjoyment'] = LabEnc.fit_transform(df_train_corr['Concert Enjoyment'])\n",
        "\n",
        "#We don't see any strong correlation. Specially for the Concert Goer Age VS Concert Enjoyment. \n",
        "sns.heatmap(df_train_corr.corr())"
      ],
      "metadata": {
        "colab": {
          "base_uri": "https://localhost:8080/",
          "height": 106
        },
        "id": "hqbchSmkq1Am",
        "outputId": "fcdd2e23-1798-47e7-b755-92fe30a88df3"
      },
      "execution_count": null,
      "outputs": [
        {
          "output_type": "execute_result",
          "data": {
            "text/plain": [
              "<matplotlib.axes._subplots.AxesSubplot at 0x7fe0f43a6580>"
            ]
          },
          "metadata": {},
          "execution_count": 32
        },
        {
          "output_type": "display_data",
          "data": {
            "text/plain": [
              "<Figure size 432x288 with 2 Axes>"
            ],
            "image/png": "[encoded data removed]"
          },
          "metadata": {
            "needs_background": "light"
          }
        }
      ]
    },
    {
      "cell_type": "markdown",
      "source": [
        "#VI. Split the data"
      ],
      "metadata": {
        "id": "uZ9-Gqy8gX9w"
      }
    },
    {
      "cell_type": "code",
      "source": [
        "#Define X and y\n",
        "X = df_train_imputed.loc[ : , df_train_imputed.columns != 'Concert Enjoyment']\n",
        "y = df_train_imputed['Concert Enjoyment'].astype('int')"
      ],
      "metadata": {
        "id": "IZsDvMfqgYCW"
      },
      "execution_count": null,
      "outputs": []
    },
    {
      "cell_type": "code",
      "source": [
        "def split_data(df_train):\n",
        "    X = df_train_imputed.loc[ : , df_train_imputed.columns != 'Concert Enjoyment']\n",
        "    y = df_train_imputed['Concert Enjoyment'].astype('int')\n",
        "    return train_test_split(X, y, test_size=0.2, stratify=y, random_state = 42)\n",
        "\n",
        "# Split the data into training and test samples\n",
        "X_train, X_test, y_train, y_test = split_data(df_train_imputed)"
      ],
      "metadata": {
        "id": "yo-CkSqOiG4D"
      },
      "execution_count": null,
      "outputs": []
    },
    {
      "cell_type": "markdown",
      "source": [
        "#VII. MODELS"
      ],
      "metadata": {
        "id": "ZOYj_KbUijl9"
      }
    },
    {
      "cell_type": "markdown",
      "source": [
        "## 1. LGBM (baseline)"
      ],
      "metadata": {
        "id": "noV90m0Ain57"
      }
    },
    {
      "cell_type": "code",
      "source": [
        "\"\"\"LightGBM = LGBMClassifier()\n",
        "LightGBM.fit(X_train, y_train)\n",
        "y_predLightGBM  = LightGBM.predict(X_test)\n",
        "\n",
        "print(classification_report(y_test, y_predLightGBM))\n",
        "print('Accuracy score: ', round(accuracy_score(y_test, y_predLightGBM), 2))\"\"\""
      ],
      "metadata": {
        "colab": {
          "base_uri": "https://localhost:8080/",
          "height": 52
        },
        "id": "LEN2vn0OiSfb",
        "outputId": "23952b3f-c002-43b3-85e4-fa0f574f002c"
      },
      "execution_count": null,
      "outputs": [
        {
          "output_type": "execute_result",
          "data": {
            "text/plain": [
              "\"LightGBM = LGBMClassifier()\\nLightGBM.fit(X_train, y_train)\\ny_predLightGBM  = LightGBM.predict(X_test)\\n\\nprint(classification_report(y_test, y_predLightGBM))\\nprint('Accuracy score: ', round(accuracy_score(y_test, y_predLightGBM), 2))\""
            ],
            "application/vnd.google.colaboratory.intrinsic+json": {
              "type": "string"
            }
          },
          "metadata": {},
          "execution_count": 35
        }
      ]
    },
    {
      "cell_type": "markdown",
      "source": [
        "###1.1 Feature importance for our baseline model"
      ],
      "metadata": {
        "id": "r1v-AQ5unaFE"
      }
    },
    {
      "cell_type": "markdown",
      "source": [
        "We can see that the f1-score is low for the minirity classes. Let's try to find better hyper parameters that can improve the score."
      ],
      "metadata": {
        "id": "cuVTBYUukQ9x"
      }
    },
    {
      "cell_type": "code",
      "source": [
        "\"\"\"#FEATURE IMPORTANCE\n",
        "import matplotlib.pyplot as plt\n",
        "import seaborn as sns\n",
        "import warnings\n",
        "warnings.simplefilter(action='ignore', category=FutureWarning)\n",
        "\n",
        "# sorted(zip(clf.feature_importances_, X.columns), reverse=True)\n",
        "feature_imp = pd.DataFrame(sorted(zip(LightGBM.feature_importances_,X.columns)), columns=['Value','Feature'])\n",
        "\n",
        "plt.figure(figsize=(20, 10))\n",
        "sns.barplot(x=\"Value\", y=\"Feature\", data=feature_imp.sort_values(by=\"Value\", ascending=False))\n",
        "plt.title('LightGBM Features (avg over folds)')\n",
        "plt.tight_layout()\n",
        "plt.show()\"\"\""
      ],
      "metadata": {
        "colab": {
          "base_uri": "https://localhost:8080/",
          "height": 87
        },
        "id": "espAh1mLq1GT",
        "outputId": "6ea6058e-2dd1-4569-9ece-227bf3656772"
      },
      "execution_count": null,
      "outputs": [
        {
          "output_type": "execute_result",
          "data": {
            "text/plain": [
              "'#FEATURE IMPORTANCE\\nimport matplotlib.pyplot as plt\\nimport seaborn as sns\\nimport warnings\\nwarnings.simplefilter(action=\\'ignore\\', category=FutureWarning)\\n\\n# sorted(zip(clf.feature_importances_, X.columns), reverse=True)\\nfeature_imp = pd.DataFrame(sorted(zip(LightGBM.feature_importances_,X.columns)), columns=[\\'Value\\',\\'Feature\\'])\\n\\nplt.figure(figsize=(20, 10))\\nsns.barplot(x=\"Value\", y=\"Feature\", data=feature_imp.sort_values(by=\"Value\", ascending=False))\\nplt.title(\\'LightGBM Features (avg over folds)\\')\\nplt.tight_layout()\\nplt.show()'"
            ],
            "application/vnd.google.colaboratory.intrinsic+json": {
              "type": "string"
            }
          },
          "metadata": {},
          "execution_count": 36
        }
      ]
    },
    {
      "cell_type": "code",
      "source": [
        "\"\"\"feature_imp = feature_imp.sort_values(by=['Value'], ascending=False)\"\"\""
      ],
      "metadata": {
        "id": "UQWvBQIzmUgH",
        "colab": {
          "base_uri": "https://localhost:8080/",
          "height": 35
        },
        "outputId": "0e93188e-bfce-4a65-80f0-190fa01eb36c"
      },
      "execution_count": null,
      "outputs": [
        {
          "output_type": "execute_result",
          "data": {
            "text/plain": [
              "\"feature_imp = feature_imp.sort_values(by=['Value'], ascending=False)\""
            ],
            "application/vnd.google.colaboratory.intrinsic+json": {
              "type": "string"
            }
          },
          "metadata": {},
          "execution_count": 37
        }
      ]
    },
    {
      "cell_type": "code",
      "source": [
        "#Top 10 most important feature\n",
        "#feature_imp.head(10)"
      ],
      "metadata": {
        "id": "YiPDCIUBmZDO"
      },
      "execution_count": null,
      "outputs": []
    },
    {
      "cell_type": "code",
      "source": [
        "#Least important feature\n",
        "#feature_imp.tail(10)"
      ],
      "metadata": {
        "id": "NlpIunJ1nPp4"
      },
      "execution_count": null,
      "outputs": []
    },
    {
      "cell_type": "markdown",
      "source": [
        "##2. Parameters optimization with RandomSearchCV"
      ],
      "metadata": {
        "id": "Anu5mLm2kDHK"
      }
    },
    {
      "cell_type": "code",
      "source": [
        "params = {\n",
        "  'learning_rate' : [0.28],\n",
        "  'max_depth' : [22],\n",
        "  'min_child_weight' : [16],\n",
        "  'colsample_bytree' : [0.85],\n",
        "  'num_leaves': [39],\n",
        "  'boosting':['dart'],\n",
        "  'num_iterations' : [700],\n",
        "  'objective': 'multiclass'\n",
        " }\n",
        "LightGBM_RS = LGBMClassifier(learning_rate= 0.28, max_depth = 22,\n",
        "min_child_weight = 16,\n",
        "  colsample_bytree=  0.85,\n",
        "  random_state=0,\n",
        "  num_leaves= 39,\n",
        "  boosting= 'dart',\n",
        "  num_iterations = 700,\n",
        "  objective= 'multiclass')\n",
        "LightGBM_RS.fit(X_train, y_train)\n",
        "y_proba  = LightGBM_RS.predict_proba(X_test)\n",
        "y_pred = LightGBM_RS.predict_proba(X_test)\n",
        "\n",
        "\"\"\"print(classification_report(y_test, y_predLightGBM_RS))\n",
        "print('Accuracy score: ', round(accuracy_score(y_test, y_predLightGBM_RS), 2))\"\"\""
      ],
      "metadata": {
        "colab": {
          "base_uri": "https://localhost:8080/",
          "height": 70
        },
        "id": "E8bLkMMukDMh",
        "outputId": "b734d84e-5c89-4439-ac15-cb499e43a06c"
      },
      "execution_count": null,
      "outputs": [
        {
          "output_type": "stream",
          "name": "stderr",
          "text": [
            "/usr/local/lib/python3.8/dist-packages/lightgbm/engine.py:118: UserWarning: Found `num_iterations` in params. Will use it instead of argument\n",
            "  warnings.warn(\"Found `{}` in params. Will use it instead of argument\".format(alias))\n"
          ]
        },
        {
          "output_type": "execute_result",
          "data": {
            "text/plain": [
              "\"print(classification_report(y_test, y_predLightGBM_RS))\\nprint('Accuracy score: ', round(accuracy_score(y_test, y_predLightGBM_RS), 2))\""
            ],
            "application/vnd.google.colaboratory.intrinsic+json": {
              "type": "string"
            }
          },
          "metadata": {},
          "execution_count": 40
        }
      ]
    },
    {
      "cell_type": "code",
      "source": [
        "y_proba  = LightGBM_RS.predict_proba(X_test)\n",
        "y_pred = LightGBM_RS.predict(X_test)"
      ],
      "metadata": {
        "id": "9HotTNXQNplK"
      },
      "execution_count": null,
      "outputs": []
    },
    {
      "cell_type": "code",
      "source": [
        "y_proba"
      ],
      "metadata": {
        "colab": {
          "base_uri": "https://localhost:8080/"
        },
        "id": "YM133xKvH7iG",
        "outputId": "0b4e7c6d-65f3-4ed2-cfe5-2c00e7b06721"
      },
      "execution_count": null,
      "outputs": [
        {
          "output_type": "execute_result",
          "data": {
            "text/plain": [
              "array([[6.55366754e-02, 6.61008624e-01, 2.66269944e-01, 7.18475562e-03],\n",
              "       [3.20075044e-01, 5.99550880e-01, 7.85936510e-02, 1.78042524e-03],\n",
              "       [2.35167452e-04, 5.35500108e-03, 2.19221683e-01, 7.75188148e-01],\n",
              "       ...,\n",
              "       [4.57901420e-01, 5.15109423e-01, 2.65582128e-02, 4.30944071e-04],\n",
              "       [2.99839986e-02, 5.63827391e-01, 4.02570354e-01, 3.61825569e-03],\n",
              "       [2.16102194e-02, 4.89891704e-01, 3.72777183e-01, 1.15720894e-01]])"
            ]
          },
          "metadata": {},
          "execution_count": 45
        }
      ]
    },
    {
      "cell_type": "code",
      "source": [
        "y_pred"
      ],
      "metadata": {
        "colab": {
          "base_uri": "https://localhost:8080/"
        },
        "id": "Ru4R0oyjIV-k",
        "outputId": "e204cb63-b748-4f27-f987-1705599360be"
      },
      "execution_count": null,
      "outputs": [
        {
          "output_type": "execute_result",
          "data": {
            "text/plain": [
              "array([1, 1, 3, ..., 1, 1, 1])"
            ]
          },
          "metadata": {},
          "execution_count": 46
        }
      ]
    },
    {
      "cell_type": "code",
      "source": [
        "def f(row):\n",
        "  i_max = np.argmax(row)\n",
        "  a = row\n",
        "  a = np.delete(a,i_max) \n",
        "  i_2nd = np.where(row == np.max(a))[0][0]\n",
        "  if (i_max == 1) & (i_2nd == 2 ) :\n",
        "    if(np.abs(row[i_2nd]-row[i_max]) < 0.01):\n",
        "      return i_2nd\n",
        "  if (i_max == 2) & (i_2nd == 1 ) :\n",
        "    if(np.abs(row[i_2nd]-row[i_max]) < 0):\n",
        "      return i_2nd\n",
        "      \n",
        "  return i_max\n",
        "\n",
        "mod_pred = np.apply_along_axis(f,axis=1,arr=y_proba)\n",
        "\n",
        "\n",
        "print(classification_report(y_test, mod_pred))\n",
        "print('f1 score: ', f1_score(y_test, mod_pred,average='micro'))"
      ],
      "metadata": {
        "colab": {
          "base_uri": "https://localhost:8080/"
        },
        "id": "uV5yvbcqOrNs",
        "outputId": "5e809306-c057-41e6-d7b2-421e6f59ed9f"
      },
      "execution_count": null,
      "outputs": [
        {
          "output_type": "stream",
          "name": "stdout",
          "text": [
            "              precision    recall  f1-score   support\n",
            "\n",
            "           0       0.71      0.43      0.54      3400\n",
            "           1       0.68      0.74      0.71     13589\n",
            "           2       0.66      0.77      0.71     13605\n",
            "           3       0.68      0.32      0.43      3406\n",
            "\n",
            "    accuracy                           0.68     34000\n",
            "   macro avg       0.69      0.56      0.60     34000\n",
            "weighted avg       0.68      0.68      0.67     34000\n",
            "\n",
            "f1 score:  0.6768823529411765\n"
          ]
        }
      ]
    },
    {
      "cell_type": "code",
      "source": [
        "print(classification_report(y_test, y_pred))\n",
        "print('f1 score: ', f1_score(y_test, y_pred,average='micro'))"
      ],
      "metadata": {
        "colab": {
          "base_uri": "https://localhost:8080/"
        },
        "id": "RbkPaw4kXgRQ",
        "outputId": "02fea3c6-4991-4bf9-cdc3-85f354c20a98"
      },
      "execution_count": null,
      "outputs": [
        {
          "output_type": "stream",
          "name": "stdout",
          "text": [
            "              precision    recall  f1-score   support\n",
            "\n",
            "           0       0.71      0.43      0.54      3400\n",
            "           1       0.68      0.74      0.71     13589\n",
            "           2       0.67      0.76      0.71     13605\n",
            "           3       0.68      0.32      0.43      3406\n",
            "\n",
            "    accuracy                           0.68     34000\n",
            "   macro avg       0.68      0.56      0.60     34000\n",
            "weighted avg       0.68      0.68      0.67     34000\n",
            "\n",
            "f1 score:  0.6765294117647059\n"
          ]
        }
      ]
    },
    {
      "cell_type": "code",
      "source": [],
      "metadata": {
        "colab": {
          "base_uri": "https://localhost:8080/"
        },
        "id": "9mh79sC9HaYU",
        "outputId": "a86435b3-cebd-4e8c-8c31-866990b2dd15"
      },
      "execution_count": null,
      "outputs": [
        {
          "output_type": "execute_result",
          "data": {
            "text/plain": [
              "array([1, 1, 3, ..., 1, 1, 1])"
            ]
          },
          "metadata": {},
          "execution_count": 85
        }
      ]
    },
    {
      "cell_type": "code",
      "source": [
        "f1_score(y_test, y_predLightGBM_RS,average='micro')"
      ],
      "metadata": {
        "id": "TaVRmv9fiSh7",
        "colab": {
          "base_uri": "https://localhost:8080/"
        },
        "outputId": "703fbc60-259c-487d-9b92-83386ad0ec3a"
      },
      "execution_count": null,
      "outputs": [
        {
          "output_type": "execute_result",
          "data": {
            "text/plain": [
              "0.6765294117647059"
            ]
          },
          "metadata": {},
          "execution_count": 175
        }
      ]
    },
    {
      "cell_type": "markdown",
      "source": [
        "#VIII. Creating the submission file"
      ],
      "metadata": {
        "id": "MwzdvpH1p6k4"
      }
    },
    {
      "cell_type": "code",
      "source": [
        "#Submission\n",
        "ids = df_test_imputed['Id']\n",
        "ids = pd.DataFrame(ids)\n",
        "\n",
        "lgbm_final = LGBMClassifier(learning_rate= 0.28, max_depth = 22,\n",
        "min_child_weight = 16,\n",
        "  colsample_bytree=  0.85,\n",
        "  random_state=0,\n",
        "  num_leaves= 39,\n",
        "  boosting= 'dart',\n",
        "  num_iterations = 700,\n",
        "  objective= 'multiclass')\n",
        "\n",
        "lgbm_final.fit(X, y)\n",
        "y_predLightGBM_RS  = LightGBM_RS.predict(X_test)\n",
        "predictions = LightGBM_RS.predict(df_test_imputed.drop('Id', axis=1))\n",
        "Predicted = pd.DataFrame(predictions, columns=['Predicted'])\n",
        "\n",
        "\n",
        "# #set the output as a dataframe and convert to csv file named submission.csv\n",
        "output = pd.concat([ids, Predicted], axis=1, join='inner')\n",
        "output"
      ],
      "metadata": {
        "id": "w4Li-2-0q1Lj",
        "colab": {
          "base_uri": "https://localhost:8080/",
          "height": 458
        },
        "outputId": "a81f7851-092f-42e1-e982-8e933f599657"
      },
      "execution_count": null,
      "outputs": [
        {
          "output_type": "stream",
          "name": "stderr",
          "text": [
            "/usr/local/lib/python3.8/dist-packages/lightgbm/engine.py:118: UserWarning: Found `num_iterations` in params. Will use it instead of argument\n",
            "  warnings.warn(\"Found `{}` in params. Will use it instead of argument\".format(alias))\n"
          ]
        },
        {
          "output_type": "execute_result",
          "data": {
            "text/plain": [
              "                             Id  Predicted\n",
              "0       ConcertExperience_70055          3\n",
              "1       ConcertExperience_34799          2\n",
              "2      ConcertExperience_100410          2\n",
              "3      ConcertExperience_106446          2\n",
              "4      ConcertExperience_127249          1\n",
              "...                         ...        ...\n",
              "29995   ConcertExperience_82288          1\n",
              "29996   ConcertExperience_27139          1\n",
              "29997  ConcertExperience_197434          2\n",
              "29998  ConcertExperience_166029          0\n",
              "29999   ConcertExperience_24025          0\n",
              "\n",
              "[30000 rows x 2 columns]"
            ],
            "text/html": [
              "\n",
              "  <div id=\"df-5d163255-938c-40be-875b-54d137d66024\">\n",
              "    <div class=\"colab-df-container\">\n",
              "      <div>\n",
              "<style scoped>\n",
              "    .dataframe tbody tr th:only-of-type {\n",
              "        vertical-align: middle;\n",
              "    }\n",
              "\n",
              "    .dataframe tbody tr th {\n",
              "        vertical-align: top;\n",
              "    }\n",
              "\n",
              "    .dataframe thead th {\n",
              "        text-align: right;\n",
              "    }\n",
              "</style>\n",
              "<table border=\"1\" class=\"dataframe\">\n",
              "  <thead>\n",
              "    <tr style=\"text-align: right;\">\n",
              "      <th></th>\n",
              "      <th>Id</th>\n",
              "      <th>Predicted</th>\n",
              "    </tr>\n",
              "  </thead>\n",
              "  <tbody>\n",
              "    <tr>\n",
              "      <th>0</th>\n",
              "      <td>ConcertExperience_70055</td>\n",
              "      <td>3</td>\n",
              "    </tr>\n",
              "    <tr>\n",
              "      <th>1</th>\n",
              "      <td>ConcertExperience_34799</td>\n",
              "      <td>2</td>\n",
              "    </tr>\n",
              "    <tr>\n",
              "      <th>2</th>\n",
              "      <td>ConcertExperience_100410</td>\n",
              "      <td>2</td>\n",
              "    </tr>\n",
              "    <tr>\n",
              "      <th>3</th>\n",
              "      <td>ConcertExperience_106446</td>\n",
              "      <td>2</td>\n",
              "    </tr>\n",
              "    <tr>\n",
              "      <th>4</th>\n",
              "      <td>ConcertExperience_127249</td>\n",
              "      <td>1</td>\n",
              "    </tr>\n",
              "    <tr>\n",
              "      <th>...</th>\n",
              "      <td>...</td>\n",
              "      <td>...</td>\n",
              "    </tr>\n",
              "    <tr>\n",
              "      <th>29995</th>\n",
              "      <td>ConcertExperience_82288</td>\n",
              "      <td>1</td>\n",
              "    </tr>\n",
              "    <tr>\n",
              "      <th>29996</th>\n",
              "      <td>ConcertExperience_27139</td>\n",
              "      <td>1</td>\n",
              "    </tr>\n",
              "    <tr>\n",
              "      <th>29997</th>\n",
              "      <td>ConcertExperience_197434</td>\n",
              "      <td>2</td>\n",
              "    </tr>\n",
              "    <tr>\n",
              "      <th>29998</th>\n",
              "      <td>ConcertExperience_166029</td>\n",
              "      <td>0</td>\n",
              "    </tr>\n",
              "    <tr>\n",
              "      <th>29999</th>\n",
              "      <td>ConcertExperience_24025</td>\n",
              "      <td>0</td>\n",
              "    </tr>\n",
              "  </tbody>\n",
              "</table>\n",
              "<p>30000 rows × 2 columns</p>\n",
              "</div>\n",
              "      <button class=\"colab-df-convert\" onclick=\"convertToInteractive('df-5d163255-938c-40be-875b-54d137d66024')\"\n",
              "              title=\"Convert this dataframe to an interactive table.\"\n",
              "              style=\"display:none;\">\n",
              "        \n",
              "  <svg xmlns=\"http://www.w3.org/2000/svg\" height=\"24px\"viewBox=\"0 0 24 24\"\n",
              "       width=\"24px\">\n",
              "    <path d=\"M0 0h24v24H0V0z\" fill=\"none\"/>\n",
              "    <path d=\"M18.56 5.44l.94 2.06.94-2.06 2.06-.94-2.06-.94-.94-2.06-.94 2.06-2.06.94zm-11 1L8.5 8.5l.94-2.06 2.06-.94-2.06-.94L8.5 2.5l-.94 2.06-2.06.94zm10 10l.94 2.06.94-2.06 2.06-.94-2.06-.94-.94-2.06-.94 2.06-2.06.94z\"/><path d=\"M17.41 7.96l-1.37-1.37c-.4-.4-.92-.59-1.43-.59-.52 0-1.04.2-1.43.59L10.3 9.45l-7.72 7.72c-.78.78-.78 2.05 0 2.83L4 21.41c.39.39.9.59 1.41.59.51 0 1.02-.2 1.41-.59l7.78-7.78 2.81-2.81c.8-.78.8-2.07 0-2.86zM5.41 20L4 18.59l7.72-7.72 1.47 1.35L5.41 20z\"/>\n",
              "  </svg>\n",
              "      </button>\n",
              "      \n",
              "  <style>\n",
              "    .colab-df-container {\n",
              "      display:flex;\n",
              "      flex-wrap:wrap;\n",
              "      gap: 12px;\n",
              "    }\n",
              "\n",
              "    .colab-df-convert {\n",
              "      background-color: #E8F0FE;\n",
              "      border: none;\n",
              "      border-radius: 50%;\n",
              "      cursor: pointer;\n",
              "      display: none;\n",
              "      fill: #1967D2;\n",
              "      height: 32px;\n",
              "      padding: 0 0 0 0;\n",
              "      width: 32px;\n",
              "    }\n",
              "\n",
              "    .colab-df-convert:hover {\n",
              "      background-color: #E2EBFA;\n",
              "      box-shadow: 0px 1px 2px rgba(60, 64, 67, 0.3), 0px 1px 3px 1px rgba(60, 64, 67, 0.15);\n",
              "      fill: #174EA6;\n",
              "    }\n",
              "\n",
              "    [theme=dark] .colab-df-convert {\n",
              "      background-color: #3B4455;\n",
              "      fill: #D2E3FC;\n",
              "    }\n",
              "\n",
              "    [theme=dark] .colab-df-convert:hover {\n",
              "      background-color: #434B5C;\n",
              "      box-shadow: 0px 1px 3px 1px rgba(0, 0, 0, 0.15);\n",
              "      filter: drop-shadow(0px 1px 2px rgba(0, 0, 0, 0.3));\n",
              "      fill: #FFFFFF;\n",
              "    }\n",
              "  </style>\n",
              "\n",
              "      <script>\n",
              "        const buttonEl =\n",
              "          document.querySelector('#df-5d163255-938c-40be-875b-54d137d66024 button.colab-df-convert');\n",
              "        buttonEl.style.display =\n",
              "          google.colab.kernel.accessAllowed ? 'block' : 'none';\n",
              "\n",
              "        async function convertToInteractive(key) {\n",
              "          const element = document.querySelector('#df-5d163255-938c-40be-875b-54d137d66024');\n",
              "          const dataTable =\n",
              "            await google.colab.kernel.invokeFunction('convertToInteractive',\n",
              "                                                     [key], {});\n",
              "          if (!dataTable) return;\n",
              "\n",
              "          const docLinkHtml = 'Like what you see? Visit the ' +\n",
              "            '<a target=\"_blank\" href=https://colab.research.google.com/notebooks/data_table.ipynb>data table notebook</a>'\n",
              "            + ' to learn more about interactive tables.';\n",
              "          element.innerHTML = '';\n",
              "          dataTable['output_type'] = 'display_data';\n",
              "          await google.colab.output.renderOutput(dataTable, element);\n",
              "          const docLink = document.createElement('div');\n",
              "          docLink.innerHTML = docLinkHtml;\n",
              "          element.appendChild(docLink);\n",
              "        }\n",
              "      </script>\n",
              "    </div>\n",
              "  </div>\n",
              "  "
            ]
          },
          "metadata": {},
          "execution_count": 176
        }
      ]
    },
    {
      "cell_type": "code",
      "source": [
        "output['Predicted'] = output['Predicted'].replace(0, \"Worst Concert Ever\")\n",
        "output['Predicted'] = output['Predicted'].replace(1, \"Did Not Enjoy\")\n",
        "output['Predicted'] = output['Predicted'].replace(2, \"Enjoyed\")\n",
        "output['Predicted'] = output['Predicted'].replace(3, \"Best Concert Ever\")"
      ],
      "metadata": {
        "id": "Xp2Ezcm9Nc3V"
      },
      "execution_count": null,
      "outputs": []
    },
    {
      "cell_type": "code",
      "source": [
        "#Creation du fichier\n",
        "output.to_csv('SubmissionFinal.csv', index=False)"
      ],
      "metadata": {
        "id": "COq8VGvQq1ON"
      },
      "execution_count": null,
      "outputs": []
    },
    {
      "cell_type": "code",
      "source": [
        "from google.colab import files\n",
        "files.download(\"SubmissionFinal.csv\")"
      ],
      "metadata": {
        "colab": {
          "base_uri": "https://localhost:8080/",
          "height": 17
        },
        "id": "7gwGdMQaZEun",
        "outputId": "463f088a-97e3-4ce0-f12f-2886b2a7e262"
      },
      "execution_count": null,
      "outputs": [
        {
          "output_type": "display_data",
          "data": {
            "text/plain": [
              "<IPython.core.display.Javascript object>"
            ],
            "application/javascript": [
              "\n",
              "    async function download(id, filename, size) {\n",
              "      if (!google.colab.kernel.accessAllowed) {\n",
              "        return;\n",
              "      }\n",
              "      const div = document.createElement('div');\n",
              "      const label = document.createElement('label');\n",
              "      label.textContent = `Downloading \"${filename}\": `;\n",
              "      div.appendChild(label);\n",
              "      const progress = document.createElement('progress');\n",
              "      progress.max = size;\n",
              "      div.appendChild(progress);\n",
              "      document.body.appendChild(div);\n",
              "\n",
              "      const buffers = [];\n",
              "      let downloaded = 0;\n",
              "\n",
              "      const channel = await google.colab.kernel.comms.open(id);\n",
              "      // Send a message to notify the kernel that we're ready.\n",
              "      channel.send({})\n",
              "\n",
              "      for await (const message of channel.messages) {\n",
              "        // Send a message to notify the kernel that we're ready.\n",
              "        channel.send({})\n",
              "        if (message.buffers) {\n",
              "          for (const buffer of message.buffers) {\n",
              "            buffers.push(buffer);\n",
              "            downloaded += buffer.byteLength;\n",
              "            progress.value = downloaded;\n",
              "          }\n",
              "        }\n",
              "      }\n",
              "      const blob = new Blob(buffers, {type: 'application/binary'});\n",
              "      const a = document.createElement('a');\n",
              "      a.href = window.URL.createObjectURL(blob);\n",
              "      a.download = filename;\n",
              "      div.appendChild(a);\n",
              "      a.click();\n",
              "      div.remove();\n",
              "    }\n",
              "  "
            ]
          },
          "metadata": {}
        },
        {
          "output_type": "display_data",
          "data": {
            "text/plain": [
              "<IPython.core.display.Javascript object>"
            ],
            "application/javascript": [
              "download(\"download_aaf5e04b-430f-47a2-8ce1-bff8503750a4\", \"SubmissionFinal.csv\", 1086498)"
            ]
          },
          "metadata": {}
        }
      ]
    }
  ]
}